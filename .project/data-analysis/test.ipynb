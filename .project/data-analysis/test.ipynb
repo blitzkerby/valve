{
 "cells": [
  {
   "cell_type": "code",
   "execution_count": 7,
   "metadata": {},
   "outputs": [
    {
     "data": {
      "image/png": "[encoded data removed]",
      "text/plain": [
       "<Figure size 640x480 with 1 Axes>"
      ]
     },
     "metadata": {},
     "output_type": "display_data"
    }
   ],
   "source": [
    "import matplotlib.pyplot as plt\n",
    "import numpy as np\n",
    "\n",
    "# Sample data (replace with your own data)\n",
    "data = np.random.randn(1000)  # Generate 1000 random numbers from a standard normal distribution\n",
    "\n",
    "# Create the histogram with customizable parameters\n",
    "\n",
    "delimiter = [1,11,21,31,41,51,61,71,81,91,101]\n",
    "\n",
    "plt.hist(data               ,    # data\n",
    "        #bins=delimiter     ,    # delimiter   \n",
    "         bins=20            ,    # Number of bins (default: 10)\n",
    "         range=None         ,    # Set x-axis range (optional)\n",
    "         density=False      ,    # Normalize by total count (optional)\n",
    "         color='blue'       ,    # Color of the bars (default: None)\n",
    "         histtype='bar'     ,    # Type of histogram (default: 'bar')\n",
    "         alpha=None         ,    # Transparency of bars (optional)\n",
    "         label='My data'    ,    # Label for the data (optional)\n",
    "         ec='magenta')\n",
    "\n",
    "# Add labels and title\n",
    "plt.xlabel(\"Value\")\n",
    "plt.ylabel(\"Frequency\")\n",
    "plt.title(\"Histogram of Random Data\")\n",
    "\n",
    "# Show the plot\n",
    "plt.show()\n",
    "\n"
   ]
  },
  {
   "cell_type": "code",
   "execution_count": null,
   "metadata": {},
   "outputs": [],
   "source": [
    "import pandas as pd\n",
    "import os\n",
    "import glob\n",
    "\n",
    "path = \"./database/PPI\"\n",
    "\n",
    "excel_files = glob.glob(os.path.join(path, \"*.xlsx\"))       # Retrieve all Excel files in the folder (matching the '.xlsx' pattern)\n",
    "\n",
    "dataframes = {}                                             # Initialize an empty dictionary to store DataFrames\n",
    "\n",
    "for file_path in excel_files:\n",
    "    if os.path.basename(file_path) == \"readme.txt\":         # Skip the 'readme.txt' file\n",
    "        continue\n",
    "\n",
    "    df = pd.read_excel(file_path)                           # Read the Excel file into a DataFrame\n",
    "\n",
    "    file_name = os.path.basename(file_path)                 # Extract the file name (excluding the path)\n",
    "\n",
    "    dataframes[file_name] = df                              # Store the DataFrame in the dictionary using the file name as the key\n",
    "\n",
    "# Now 'dataframes' contains all the DataFrames from Excel files\n",
    "# You can access them using their respective file names\n",
    "\n",
    "# for file_name, df in dataframes.items():\n",
    "#     print(f\"File: {file_name}\")\n",
    "#     print(df)                                               # Display the content of each DataFrame\n",
    "#     print(\"-\" * 40)                                         # Separator\n",
    "\n",
    "\n",
    "i = 0\n",
    "for file_name in dataframes.keys():\n",
    "    print(f\"\"\"{i} : {file_name}\"\"\")\n",
    "    i += 1"
   ]
  },
  {
   "cell_type": "code",
   "execution_count": null,
   "metadata": {},
   "outputs": [],
   "source": [
    "def get_dataframe(name):\n",
    "    df = dataframes[name].iloc[9:,:]\n",
    "    line = df\n",
    "\n",
    "    months_list = []\n",
    "\n",
    "    for i in line:\n",
    "        months_list.append(line[i].values[0])\n",
    "\n",
    "    df.columns = months_list\n",
    "    df = df[1:]\n",
    "    df = df.set_index(\"Year\")\n",
    "    return df"
   ]
  },
  {
   "cell_type": "code",
   "execution_count": 11,
   "metadata": {},
   "outputs": [],
   "source": [
    "import pandas as pd\n",
    "import numpy as np\n",
    "\n",
    "df = pd.DataFrame({'From_To': ['LoNDon_paris', 'MAdrid_miLAN', 'londON_StockhOlm', \n",
    "                               'Budapest_PaRis', 'Brussels_londOn'],\n",
    "              'FlightNumber': [10045, np.nan, 10065, np.nan, 10085],\n",
    "              'RecentDelays': [[23, 47], [], [24, 43, 87], [13], [67, 32]],\n",
    "                   'Airline': ['KLM(!)', '<Air France> (12)', '(British Airways. )', \n",
    "                               '12. Air France', '\"Swiss Air\"']})\n",
    "\n",
    "df['FlightNumber'] = df['FlightNumber'].interpolate().astype(int)"
   ]
  },
  {
   "cell_type": "code",
   "execution_count": 12,
   "metadata": {},
   "outputs": [
    {
     "data": {
      "text/plain": [
       "0    10045\n",
       "1    10055\n",
       "2    10065\n",
       "3    10075\n",
       "4    10085\n",
       "Name: FlightNumber, dtype: int64"
      ]
     },
     "execution_count": 12,
     "metadata": {},
     "output_type": "execute_result"
    }
   ],
   "source": [
    "df['FlightNumber']"
   ]
  },
  {
   "cell_type": "code",
   "execution_count": null,
   "metadata": {},
   "outputs": [],
   "source": []
  }
 ],
 "metadata": {
  "kernelspec": {
   "display_name": "base",
   "language": "python",
   "name": "python3"
  },
  "language_info": {
   "codemirror_mode": {
    "name": "ipython",
    "version": 3
   },
   "file_extension": ".py",
   "mimetype": "text/x-python",
   "name": "python",
   "nbconvert_exporter": "python",
   "pygments_lexer": "ipython3",
   "version": "3.11.5"
  }
 },
 "nbformat": 4,
 "nbformat_minor": 2
}
