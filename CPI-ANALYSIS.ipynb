{
 "cells": [
  {
   "cell_type": "markdown",
   "id": "b86508ad-d886-44e5-b527-81f8b8893b62",
   "metadata": {},
   "source": [
    "## CPI ANALYSIS FOR HACKTHON (TEAM LUCK)"
   ]
  },
  {
   "cell_type": "markdown",
   "id": "873d5534-6e35-4ba4-a5bf-578e0bf3fd74",
   "metadata": {},
   "source": [
    "### 1. Import libraries"
   ]
  },
  {
   "cell_type": "code",
   "execution_count": 1,
   "id": "5bd5c3e9-10be-4524-8a39-38f2afc77700",
   "metadata": {},
   "outputs": [],
   "source": [
    "import pandas as pd\n",
    "import numpy as np\n",
    "import matplotlib.pyplot as plt\n",
    "import seaborn as sns"
   ]
  },
  {
   "cell_type": "code",
   "execution_count": 16,
   "id": "70a9c289-857a-42bb-8d5e-4342e87f0b74",
   "metadata": {},
   "outputs": [],
   "source": [
    "cpi = 'CPI.csv' # Consumer price index\n",
    "eci = 'ECI.csv' #  Employment cost index\n",
    "csi = 'CONSUMER-SENTIMENT-INDEX.csv' # Consumer sentiment index\n",
    "gpd = 'GPD-PRICE-DEFLATOR.csv' # Price deflator\n",
    "ipd = 'IMPORT-PRICE-INDEX.csv' # Import price index\n",
    "op = 'OIL-PRICE.csv' # WPI oil prices\n",
    "pce = 'PCE.csv' # Personal consumption expenditures\n",
    "ppi = 'PPI.csv' # Producer price index\n",
    "wg = 'WAGE-GROWTH.csv' # Wage growth"
   ]
  },
  {
   "cell_type": "code",
   "execution_count": 17,
   "id": "e65c2bcd-f9e0-4cf7-b712-3d221ec5d7e5",
   "metadata": {},
   "outputs": [],
   "source": [
    "df_cpi = pd.read_csv(cpi)\n",
    "df_eci = pd.read_csv(eci)\n",
    "df_csi = pd.read_csv(csi)\n",
    "df_gpd = pd.read_csv(ipd)\n",
    "df_op = pd.read_csv(op)\n",
    "df_pce = pd.read_csv(pce)\n",
    "df_ppi = pd.read_csv(ppi)\n",
    "df_wg = pd.read_csv(wg)"
   ]
  },
  {
   "cell_type": "code",
   "execution_count": null,
   "id": "4c74b74d-38f7-4992-9fcf-e6d36f8e8415",
   "metadata": {},
   "outputs": [],
   "source": []
  }
 ],
 "metadata": {
  "kernelspec": {
   "display_name": "Python 3 (ipykernel)",
   "language": "python",
   "name": "python3"
  },
  "language_info": {
   "codemirror_mode": {
    "name": "ipython",
    "version": 3
   },
   "file_extension": ".py",
   "mimetype": "text/x-python",
   "name": "python",
   "nbconvert_exporter": "python",
   "pygments_lexer": "ipython3",
   "version": "3.11.5"
  }
 },
 "nbformat": 4,
 "nbformat_minor": 5
}
