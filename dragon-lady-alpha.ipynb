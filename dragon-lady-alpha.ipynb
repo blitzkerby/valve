{
 "cells": [
  {
   "cell_type": "code",
   "execution_count": 1,
   "metadata": {},
   "outputs": [
    {
     "name": "stdout",
     "output_type": "stream",
     "text": [
      "Hello, world!\n"
     ]
    }
   ],
   "source": [
    "print(\"Hello, world!\")"
   ]
  },
  {
   "cell_type": "code",
   "execution_count": 2,
   "metadata": {},
   "outputs": [],
   "source": [
    "import matplotlib.pyplot as plt\n",
    "import seaborn as sns\n",
    "import pandas as pd\n",
    "import numpy as np"
   ]
  },
  {
   "cell_type": "code",
   "execution_count": 3,
   "metadata": {},
   "outputs": [],
   "source": [
    "csi = \"./team/data/\" + \"CONSUMER-SENTIMENT-INDEX.csv\"\n",
    "cpi = \"./team/data/\" + \"CPI.csv\"\n",
    "eci = \"./team/data/\" + \"ECI.csv\"\n",
    "gpd = \"./team/data/\" + \"GPD-PRICE-DEFLATOR.csv\"\n",
    "ipi = \"./team/data/\" + \"IMPORT-PRICE-INDEX.csv\"\n",
    "oil = \"./team/data/\" + \"OIL-PRICE.csv\"\n",
    "pce = \"./team/data/\" + \"PCE.csv\""
   ]
  },
  {
   "cell_type": "code",
   "execution_count": 7,
   "metadata": {},
   "outputs": [],
   "source": [
    "df_csi = pd.read_csv(csi)\n",
    "df_cpi = pd.read_csv(cpi)\n",
    "df_eci = pd.read_csv(eci)\n",
    "df_gpd = pd.read_csv(gpd)\n",
    "df_ipi = pd.read_csv()"
   ]
  },
  {
   "cell_type": "code",
   "execution_count": null,
   "metadata": {},
   "outputs": [],
   "source": []
  }
 ],
 "metadata": {
  "kernelspec": {
   "display_name": "base",
   "language": "python",
   "name": "python3"
  },
  "language_info": {
   "codemirror_mode": {
    "name": "ipython",
    "version": 3
   },
   "file_extension": ".py",
   "mimetype": "text/x-python",
   "name": "python",
   "nbconvert_exporter": "python",
   "pygments_lexer": "ipython3",
   "version": "3.11.5"
  }
 },
 "nbformat": 4,
 "nbformat_minor": 2
}
