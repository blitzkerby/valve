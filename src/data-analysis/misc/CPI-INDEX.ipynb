{
 "cells": [
  {
   "cell_type": "code",
   "execution_count": 2,
   "id": "d09b5683",
   "metadata": {},
   "outputs": [
    {
     "name": "stdout",
     "output_type": "stream",
     "text": [
      "1\n"
     ]
    }
   ],
   "source": [
    "print(1)"
   ]
  },
  {
   "cell_type": "markdown",
   "id": "07cf449a-4b2f-47d1-9b13-09e5cbff1531",
   "metadata": {},
   "source": [
    "### 1. LOAD LIBRARIES"
   ]
  },
  {
   "cell_type": "code",
   "execution_count": 3,
   "id": "837a3102-2d96-4122-a587-cbeb498625d5",
   "metadata": {},
   "outputs": [],
   "source": [
    "import pandas as pd\n",
    "import numpy as np\n",
    "import matplotlib.pyplot as plt\n",
    "import seaborn as sns"
   ]
  },
  {
   "cell_type": "code",
   "execution_count": 4,
   "id": "eadb7578-fd29-4b0f-ace1-50e6288ed83a",
   "metadata": {},
   "outputs": [],
   "source": [
    "cpi = './CPI.csv'                       # Consumer price index\n",
    "eci = './ECI.csv'                       # Employment cost index\n",
    "csi = './CONSUMER-SENTIMENT-INDEX.csv'  # Consumer sentiment index\n",
    "gpd = './GPD-PRICE-DEFLATOR.csv'        # Price deflator\n",
    "ipd = './IMPORT-PRICE-INDEX.csv'        # Import price index\n",
    "op  = './OIL-PRICE.csv'                 # WPI oil prices\n",
    "pce = './PCE.csv'                       # Personal consumption expenditures\n",
    "ppi = './PPI.csv'                       # Producer price index\n",
    "wg  = './WAGE-GROWTH.csv'               # Wage growth"
   ]
  },
  {
   "cell_type": "code",
   "execution_count": 5,
   "id": "0dc1e0a6-36e7-45bd-9e40-64cf22c27273",
   "metadata": {},
   "outputs": [],
   "source": [
    "df_cpi = pd.read_csv(cpi, index_col='DATE', parse_dates=True)\n",
    "df_eci = pd.read_csv(eci, index_col='DATE', parse_dates=True)\n",
    "df_csi = pd.read_csv(csi)\n",
    "df_gpd = pd.read_csv(ipd, index_col='DATE', parse_dates=True)\n",
    "df_op  = pd.read_csv(op,  index_col='DATE', parse_dates=True)\n",
    "df_pce = pd.read_csv(pce, index_col='DATE', parse_dates=True)\n",
    "df_ppi = pd.read_csv(ppi, index_col='DATE', parse_dates=True)\n",
    "df_wg  = pd.read_csv(wg,  index_col='DATE', parse_dates=True)"
   ]
  },
  {
   "cell_type": "markdown",
   "id": "41934229-a1a7-4ea9-9959-f62ffd4a8119",
   "metadata": {},
   "source": [
    "### 2. DATA EXPLORATION"
   ]
  },
  {
   "cell_type": "code",
   "execution_count": 6,
   "id": "5837af30-c5c8-4418-b3da-06906a1e079b",
   "metadata": {},
   "outputs": [],
   "source": [
    "def check_outliers(df, col):\n",
    "    Q1 = df[col].quantile(0.25)\n",
    "    Q3 = df[col].quantile(0.75)\n",
    "    IQR = Q3 - Q1\n",
    "    return df[(df[col] > Q3 + 1.5 * IQR) | (df[col] < Q1 - 1.5 * (IQR))]"
   ]
  },
  {
   "cell_type": "code",
   "execution_count": 7,
   "id": "b69bcc6f-6580-4bba-a068-0874536676a5",
   "metadata": {},
   "outputs": [
    {
     "data": {
      "text/html": [
       "<div>\n",
       "<style scoped>\n",
       "    .dataframe tbody tr th:only-of-type {\n",
       "        vertical-align: middle;\n",
       "    }\n",
       "\n",
       "    .dataframe tbody tr th {\n",
       "        vertical-align: top;\n",
       "    }\n",
       "\n",
       "    .dataframe thead th {\n",
       "        text-align: right;\n",
       "    }\n",
       "</style>\n",
       "<table border=\"1\" class=\"dataframe\">\n",
       "  <thead>\n",
       "    <tr style=\"text-align: right;\">\n",
       "      <th></th>\n",
       "      <th>CPIAUCSL</th>\n",
       "    </tr>\n",
       "    <tr>\n",
       "      <th>DATE</th>\n",
       "      <th></th>\n",
       "    </tr>\n",
       "  </thead>\n",
       "  <tbody>\n",
       "    <tr>\n",
       "      <th>1947-01-01</th>\n",
       "      <td>21.480</td>\n",
       "    </tr>\n",
       "    <tr>\n",
       "      <th>1947-02-01</th>\n",
       "      <td>21.620</td>\n",
       "    </tr>\n",
       "    <tr>\n",
       "      <th>1947-03-01</th>\n",
       "      <td>22.000</td>\n",
       "    </tr>\n",
       "    <tr>\n",
       "      <th>1947-04-01</th>\n",
       "      <td>22.000</td>\n",
       "    </tr>\n",
       "    <tr>\n",
       "      <th>1947-05-01</th>\n",
       "      <td>21.950</td>\n",
       "    </tr>\n",
       "    <tr>\n",
       "      <th>...</th>\n",
       "      <td>...</td>\n",
       "    </tr>\n",
       "    <tr>\n",
       "      <th>2024-01-01</th>\n",
       "      <td>309.685</td>\n",
       "    </tr>\n",
       "    <tr>\n",
       "      <th>2024-02-01</th>\n",
       "      <td>311.054</td>\n",
       "    </tr>\n",
       "    <tr>\n",
       "      <th>2024-03-01</th>\n",
       "      <td>312.230</td>\n",
       "    </tr>\n",
       "    <tr>\n",
       "      <th>2024-04-01</th>\n",
       "      <td>313.207</td>\n",
       "    </tr>\n",
       "    <tr>\n",
       "      <th>2024-05-01</th>\n",
       "      <td>313.225</td>\n",
       "    </tr>\n",
       "  </tbody>\n",
       "</table>\n",
       "<p>929 rows × 1 columns</p>\n",
       "</div>"
      ],
      "text/plain": [
       "            CPIAUCSL\n",
       "DATE                \n",
       "1947-01-01    21.480\n",
       "1947-02-01    21.620\n",
       "1947-03-01    22.000\n",
       "1947-04-01    22.000\n",
       "1947-05-01    21.950\n",
       "...              ...\n",
       "2024-01-01   309.685\n",
       "2024-02-01   311.054\n",
       "2024-03-01   312.230\n",
       "2024-04-01   313.207\n",
       "2024-05-01   313.225\n",
       "\n",
       "[929 rows x 1 columns]"
      ]
     },
     "execution_count": 7,
     "metadata": {},
     "output_type": "execute_result"
    }
   ],
   "source": [
    "# cpi data\n",
    "df_cpi # we nneed to check outliers to determine a propriate agg method to use"
   ]
  },
  {
   "cell_type": "code",
   "execution_count": 8,
   "id": "72d7d093-7176-43b5-9f0a-61ec0868cc40",
   "metadata": {},
   "outputs": [
    {
     "data": {
      "text/html": [
       "<div>\n",
       "<style scoped>\n",
       "    .dataframe tbody tr th:only-of-type {\n",
       "        vertical-align: middle;\n",
       "    }\n",
       "\n",
       "    .dataframe tbody tr th {\n",
       "        vertical-align: top;\n",
       "    }\n",
       "\n",
       "    .dataframe thead th {\n",
       "        text-align: right;\n",
       "    }\n",
       "</style>\n",
       "<table border=\"1\" class=\"dataframe\">\n",
       "  <thead>\n",
       "    <tr style=\"text-align: right;\">\n",
       "      <th></th>\n",
       "      <th>CPIAUCSL</th>\n",
       "    </tr>\n",
       "    <tr>\n",
       "      <th>DATE</th>\n",
       "      <th></th>\n",
       "    </tr>\n",
       "  </thead>\n",
       "  <tbody>\n",
       "  </tbody>\n",
       "</table>\n",
       "</div>"
      ],
      "text/plain": [
       "Empty DataFrame\n",
       "Columns: [CPIAUCSL]\n",
       "Index: []"
      ]
     },
     "execution_count": 8,
     "metadata": {},
     "output_type": "execute_result"
    }
   ],
   "source": [
    "check_outliers(df_cpi, 'CPIAUCSL') # no outliers, so we use mean"
   ]
  },
  {
   "cell_type": "code",
   "execution_count": 9,
   "id": "0d791dcf-0947-4d24-97f1-1cfa3746ba40",
   "metadata": {},
   "outputs": [
    {
     "data": {
      "text/html": [
       "<div>\n",
       "<style scoped>\n",
       "    .dataframe tbody tr th:only-of-type {\n",
       "        vertical-align: middle;\n",
       "    }\n",
       "\n",
       "    .dataframe tbody tr th {\n",
       "        vertical-align: top;\n",
       "    }\n",
       "\n",
       "    .dataframe thead th {\n",
       "        text-align: right;\n",
       "    }\n",
       "</style>\n",
       "<table border=\"1\" class=\"dataframe\">\n",
       "  <thead>\n",
       "    <tr style=\"text-align: right;\">\n",
       "      <th></th>\n",
       "      <th>CPIAUCSL</th>\n",
       "    </tr>\n",
       "    <tr>\n",
       "      <th>DATE</th>\n",
       "      <th></th>\n",
       "    </tr>\n",
       "  </thead>\n",
       "  <tbody>\n",
       "    <tr>\n",
       "      <th>1947-03-31</th>\n",
       "      <td>21.700000</td>\n",
       "    </tr>\n",
       "    <tr>\n",
       "      <th>1947-06-30</th>\n",
       "      <td>22.010000</td>\n",
       "    </tr>\n",
       "    <tr>\n",
       "      <th>1947-09-30</th>\n",
       "      <td>22.490000</td>\n",
       "    </tr>\n",
       "    <tr>\n",
       "      <th>1947-12-31</th>\n",
       "      <td>23.126667</td>\n",
       "    </tr>\n",
       "    <tr>\n",
       "      <th>1948-03-31</th>\n",
       "      <td>23.616667</td>\n",
       "    </tr>\n",
       "    <tr>\n",
       "      <th>...</th>\n",
       "      <td>...</td>\n",
       "    </tr>\n",
       "    <tr>\n",
       "      <th>2023-06-30</th>\n",
       "      <td>303.466667</td>\n",
       "    </tr>\n",
       "    <tr>\n",
       "      <th>2023-09-30</th>\n",
       "      <td>306.034333</td>\n",
       "    </tr>\n",
       "    <tr>\n",
       "      <th>2023-12-31</th>\n",
       "      <td>308.099000</td>\n",
       "    </tr>\n",
       "    <tr>\n",
       "      <th>2024-03-31</th>\n",
       "      <td>310.989667</td>\n",
       "    </tr>\n",
       "    <tr>\n",
       "      <th>2024-06-30</th>\n",
       "      <td>313.216000</td>\n",
       "    </tr>\n",
       "  </tbody>\n",
       "</table>\n",
       "<p>310 rows × 1 columns</p>\n",
       "</div>"
      ],
      "text/plain": [
       "              CPIAUCSL\n",
       "DATE                  \n",
       "1947-03-31   21.700000\n",
       "1947-06-30   22.010000\n",
       "1947-09-30   22.490000\n",
       "1947-12-31   23.126667\n",
       "1948-03-31   23.616667\n",
       "...                ...\n",
       "2023-06-30  303.466667\n",
       "2023-09-30  306.034333\n",
       "2023-12-31  308.099000\n",
       "2024-03-31  310.989667\n",
       "2024-06-30  313.216000\n",
       "\n",
       "[310 rows x 1 columns]"
      ]
     },
     "execution_count": 9,
     "metadata": {},
     "output_type": "execute_result"
    }
   ],
   "source": [
    "df_cpi.resample('Q').mean()"
   ]
  },
  {
   "cell_type": "code",
   "execution_count": 10,
   "id": "e2705c8f-08bb-4d23-b3c1-59cc89375f20",
   "metadata": {},
   "outputs": [
    {
     "data": {
      "text/html": [
       "<div>\n",
       "<style scoped>\n",
       "    .dataframe tbody tr th:only-of-type {\n",
       "        vertical-align: middle;\n",
       "    }\n",
       "\n",
       "    .dataframe tbody tr th {\n",
       "        vertical-align: top;\n",
       "    }\n",
       "\n",
       "    .dataframe thead th {\n",
       "        text-align: right;\n",
       "    }\n",
       "</style>\n",
       "<table border=\"1\" class=\"dataframe\">\n",
       "  <thead>\n",
       "    <tr style=\"text-align: right;\">\n",
       "      <th></th>\n",
       "      <th>CIS1020000000000I</th>\n",
       "    </tr>\n",
       "    <tr>\n",
       "      <th>DATE</th>\n",
       "      <th></th>\n",
       "    </tr>\n",
       "  </thead>\n",
       "  <tbody>\n",
       "    <tr>\n",
       "      <th>2001-01-01</th>\n",
       "      <td>87.6</td>\n",
       "    </tr>\n",
       "    <tr>\n",
       "      <th>2001-04-01</th>\n",
       "      <td>88.4</td>\n",
       "    </tr>\n",
       "    <tr>\n",
       "      <th>2001-07-01</th>\n",
       "      <td>89.2</td>\n",
       "    </tr>\n",
       "    <tr>\n",
       "      <th>2001-10-01</th>\n",
       "      <td>90.0</td>\n",
       "    </tr>\n",
       "    <tr>\n",
       "      <th>2002-01-01</th>\n",
       "      <td>90.7</td>\n",
       "    </tr>\n",
       "    <tr>\n",
       "      <th>...</th>\n",
       "      <td>...</td>\n",
       "    </tr>\n",
       "    <tr>\n",
       "      <th>2023-01-01</th>\n",
       "      <td>157.1</td>\n",
       "    </tr>\n",
       "    <tr>\n",
       "      <th>2023-04-01</th>\n",
       "      <td>158.7</td>\n",
       "    </tr>\n",
       "    <tr>\n",
       "      <th>2023-07-01</th>\n",
       "      <td>160.4</td>\n",
       "    </tr>\n",
       "    <tr>\n",
       "      <th>2023-10-01</th>\n",
       "      <td>162.1</td>\n",
       "    </tr>\n",
       "    <tr>\n",
       "      <th>2024-01-01</th>\n",
       "      <td>163.9</td>\n",
       "    </tr>\n",
       "  </tbody>\n",
       "</table>\n",
       "<p>93 rows × 1 columns</p>\n",
       "</div>"
      ],
      "text/plain": [
       "            CIS1020000000000I\n",
       "DATE                         \n",
       "2001-01-01               87.6\n",
       "2001-04-01               88.4\n",
       "2001-07-01               89.2\n",
       "2001-10-01               90.0\n",
       "2002-01-01               90.7\n",
       "...                       ...\n",
       "2023-01-01              157.1\n",
       "2023-04-01              158.7\n",
       "2023-07-01              160.4\n",
       "2023-10-01              162.1\n",
       "2024-01-01              163.9\n",
       "\n",
       "[93 rows x 1 columns]"
      ]
     },
     "execution_count": 10,
     "metadata": {},
     "output_type": "execute_result"
    }
   ],
   "source": [
    "df_eci"
   ]
  },
  {
   "cell_type": "code",
   "execution_count": 11,
   "id": "c3f9553e-b6d1-4831-9053-7eee6e09b5bb",
   "metadata": {},
   "outputs": [],
   "source": [
    "df_gpd.replace('.', np.nan,  inplace=True)"
   ]
  },
  {
   "cell_type": "code",
   "execution_count": 12,
   "id": "6552f50f-bcda-41db-9fa2-8a0aac9444a6",
   "metadata": {},
   "outputs": [
    {
     "data": {
      "text/plain": [
       "IR    50\n",
       "dtype: int64"
      ]
     },
     "execution_count": 12,
     "metadata": {},
     "output_type": "execute_result"
    }
   ],
   "source": [
    "df_gpd.isnull().sum()"
   ]
  },
  {
   "cell_type": "code",
   "execution_count": 13,
   "id": "5ecaf3f2-7b9c-466c-a8f5-5d87276f9462",
   "metadata": {},
   "outputs": [],
   "source": [
    "df_gpd.dropna(inplace=True)"
   ]
  },
  {
   "cell_type": "code",
   "execution_count": 14,
   "id": "37e3ae07-0f8c-4a0e-b583-84002c870325",
   "metadata": {},
   "outputs": [],
   "source": [
    "df_gpd['IR'] = df_gpd['IR'].astype('float64')"
   ]
  },
  {
   "cell_type": "code",
   "execution_count": 15,
   "id": "56a4ff57-a7b4-4151-b4b6-8d6acff52700",
   "metadata": {},
   "outputs": [
    {
     "data": {
      "text/html": [
       "<div>\n",
       "<style scoped>\n",
       "    .dataframe tbody tr th:only-of-type {\n",
       "        vertical-align: middle;\n",
       "    }\n",
       "\n",
       "    .dataframe tbody tr th {\n",
       "        vertical-align: top;\n",
       "    }\n",
       "\n",
       "    .dataframe thead th {\n",
       "        text-align: right;\n",
       "    }\n",
       "</style>\n",
       "<table border=\"1\" class=\"dataframe\">\n",
       "  <thead>\n",
       "    <tr style=\"text-align: right;\">\n",
       "      <th></th>\n",
       "      <th>IR</th>\n",
       "    </tr>\n",
       "    <tr>\n",
       "      <th>DATE</th>\n",
       "      <th></th>\n",
       "    </tr>\n",
       "  </thead>\n",
       "  <tbody>\n",
       "  </tbody>\n",
       "</table>\n",
       "</div>"
      ],
      "text/plain": [
       "Empty DataFrame\n",
       "Columns: [IR]\n",
       "Index: []"
      ]
     },
     "execution_count": 15,
     "metadata": {},
     "output_type": "execute_result"
    }
   ],
   "source": [
    "check_outliers(df_gpd, 'IR')"
   ]
  },
  {
   "cell_type": "code",
   "execution_count": 16,
   "id": "8c8d4912-5cff-48d2-a63a-9aa9880fee6c",
   "metadata": {},
   "outputs": [
    {
     "data": {
      "text/html": [
       "<div>\n",
       "<style scoped>\n",
       "    .dataframe tbody tr th:only-of-type {\n",
       "        vertical-align: middle;\n",
       "    }\n",
       "\n",
       "    .dataframe tbody tr th {\n",
       "        vertical-align: top;\n",
       "    }\n",
       "\n",
       "    .dataframe thead th {\n",
       "        text-align: right;\n",
       "    }\n",
       "</style>\n",
       "<table border=\"1\" class=\"dataframe\">\n",
       "  <thead>\n",
       "    <tr style=\"text-align: right;\">\n",
       "      <th></th>\n",
       "      <th>POILWTIUSDM</th>\n",
       "    </tr>\n",
       "    <tr>\n",
       "      <th>DATE</th>\n",
       "      <th></th>\n",
       "    </tr>\n",
       "  </thead>\n",
       "  <tbody>\n",
       "    <tr>\n",
       "      <th>1990-01-01</th>\n",
       "      <td>22.604348</td>\n",
       "    </tr>\n",
       "    <tr>\n",
       "      <th>1990-02-01</th>\n",
       "      <td>22.202500</td>\n",
       "    </tr>\n",
       "    <tr>\n",
       "      <th>1990-03-01</th>\n",
       "      <td>20.440455</td>\n",
       "    </tr>\n",
       "    <tr>\n",
       "      <th>1990-04-01</th>\n",
       "      <td>18.526667</td>\n",
       "    </tr>\n",
       "    <tr>\n",
       "      <th>1990-05-01</th>\n",
       "      <td>18.443043</td>\n",
       "    </tr>\n",
       "    <tr>\n",
       "      <th>...</th>\n",
       "      <td>...</td>\n",
       "    </tr>\n",
       "    <tr>\n",
       "      <th>2024-01-01</th>\n",
       "      <td>74.003043</td>\n",
       "    </tr>\n",
       "    <tr>\n",
       "      <th>2024-02-01</th>\n",
       "      <td>77.363810</td>\n",
       "    </tr>\n",
       "    <tr>\n",
       "      <th>2024-03-01</th>\n",
       "      <td>81.405714</td>\n",
       "    </tr>\n",
       "    <tr>\n",
       "      <th>2024-04-01</th>\n",
       "      <td>85.347273</td>\n",
       "    </tr>\n",
       "    <tr>\n",
       "      <th>2024-05-01</th>\n",
       "      <td>79.957391</td>\n",
       "    </tr>\n",
       "  </tbody>\n",
       "</table>\n",
       "<p>413 rows × 1 columns</p>\n",
       "</div>"
      ],
      "text/plain": [
       "            POILWTIUSDM\n",
       "DATE                   \n",
       "1990-01-01    22.604348\n",
       "1990-02-01    22.202500\n",
       "1990-03-01    20.440455\n",
       "1990-04-01    18.526667\n",
       "1990-05-01    18.443043\n",
       "...                 ...\n",
       "2024-01-01    74.003043\n",
       "2024-02-01    77.363810\n",
       "2024-03-01    81.405714\n",
       "2024-04-01    85.347273\n",
       "2024-05-01    79.957391\n",
       "\n",
       "[413 rows x 1 columns]"
      ]
     },
     "execution_count": 16,
     "metadata": {},
     "output_type": "execute_result"
    }
   ],
   "source": [
    "df_op"
   ]
  },
  {
   "cell_type": "code",
   "execution_count": 17,
   "id": "757a66fd-422c-4aab-ba06-74c0b594b76a",
   "metadata": {},
   "outputs": [
    {
     "data": {
      "text/html": [
       "<div>\n",
       "<style scoped>\n",
       "    .dataframe tbody tr th:only-of-type {\n",
       "        vertical-align: middle;\n",
       "    }\n",
       "\n",
       "    .dataframe tbody tr th {\n",
       "        vertical-align: top;\n",
       "    }\n",
       "\n",
       "    .dataframe thead th {\n",
       "        text-align: right;\n",
       "    }\n",
       "</style>\n",
       "<table border=\"1\" class=\"dataframe\">\n",
       "  <thead>\n",
       "    <tr style=\"text-align: right;\">\n",
       "      <th></th>\n",
       "      <th>POILWTIUSDM</th>\n",
       "    </tr>\n",
       "    <tr>\n",
       "      <th>DATE</th>\n",
       "      <th></th>\n",
       "    </tr>\n",
       "  </thead>\n",
       "  <tbody>\n",
       "  </tbody>\n",
       "</table>\n",
       "</div>"
      ],
      "text/plain": [
       "Empty DataFrame\n",
       "Columns: [POILWTIUSDM]\n",
       "Index: []"
      ]
     },
     "execution_count": 17,
     "metadata": {},
     "output_type": "execute_result"
    }
   ],
   "source": [
    "check_outliers(df_op, 'POILWTIUSDM')"
   ]
  },
  {
   "cell_type": "code",
   "execution_count": 18,
   "id": "ab6f596e-33e1-47e3-93e0-79903417dbcf",
   "metadata": {},
   "outputs": [
    {
     "data": {
      "text/html": [
       "<div>\n",
       "<style scoped>\n",
       "    .dataframe tbody tr th:only-of-type {\n",
       "        vertical-align: middle;\n",
       "    }\n",
       "\n",
       "    .dataframe tbody tr th {\n",
       "        vertical-align: top;\n",
       "    }\n",
       "\n",
       "    .dataframe thead th {\n",
       "        text-align: right;\n",
       "    }\n",
       "</style>\n",
       "<table border=\"1\" class=\"dataframe\">\n",
       "  <thead>\n",
       "    <tr style=\"text-align: right;\">\n",
       "      <th></th>\n",
       "      <th>PCE</th>\n",
       "    </tr>\n",
       "    <tr>\n",
       "      <th>DATE</th>\n",
       "      <th></th>\n",
       "    </tr>\n",
       "  </thead>\n",
       "  <tbody>\n",
       "    <tr>\n",
       "      <th>1959-01-01</th>\n",
       "      <td>306.1</td>\n",
       "    </tr>\n",
       "    <tr>\n",
       "      <th>1959-02-01</th>\n",
       "      <td>309.6</td>\n",
       "    </tr>\n",
       "    <tr>\n",
       "      <th>1959-03-01</th>\n",
       "      <td>312.7</td>\n",
       "    </tr>\n",
       "    <tr>\n",
       "      <th>1959-04-01</th>\n",
       "      <td>312.2</td>\n",
       "    </tr>\n",
       "    <tr>\n",
       "      <th>1959-05-01</th>\n",
       "      <td>316.1</td>\n",
       "    </tr>\n",
       "    <tr>\n",
       "      <th>...</th>\n",
       "      <td>...</td>\n",
       "    </tr>\n",
       "    <tr>\n",
       "      <th>2024-01-01</th>\n",
       "      <td>19028.0</td>\n",
       "    </tr>\n",
       "    <tr>\n",
       "      <th>2024-02-01</th>\n",
       "      <td>19136.0</td>\n",
       "    </tr>\n",
       "    <tr>\n",
       "      <th>2024-03-01</th>\n",
       "      <td>19263.7</td>\n",
       "    </tr>\n",
       "    <tr>\n",
       "      <th>2024-04-01</th>\n",
       "      <td>19289.9</td>\n",
       "    </tr>\n",
       "    <tr>\n",
       "      <th>2024-05-01</th>\n",
       "      <td>19337.8</td>\n",
       "    </tr>\n",
       "  </tbody>\n",
       "</table>\n",
       "<p>785 rows × 1 columns</p>\n",
       "</div>"
      ],
      "text/plain": [
       "                PCE\n",
       "DATE               \n",
       "1959-01-01    306.1\n",
       "1959-02-01    309.6\n",
       "1959-03-01    312.7\n",
       "1959-04-01    312.2\n",
       "1959-05-01    316.1\n",
       "...             ...\n",
       "2024-01-01  19028.0\n",
       "2024-02-01  19136.0\n",
       "2024-03-01  19263.7\n",
       "2024-04-01  19289.9\n",
       "2024-05-01  19337.8\n",
       "\n",
       "[785 rows x 1 columns]"
      ]
     },
     "execution_count": 18,
     "metadata": {},
     "output_type": "execute_result"
    }
   ],
   "source": [
    "df_pce"
   ]
  },
  {
   "cell_type": "code",
   "execution_count": 19,
   "id": "245c490d-dd1f-4af6-8f9b-fa97dd6e9ad9",
   "metadata": {},
   "outputs": [
    {
     "data": {
      "text/html": [
       "<div>\n",
       "<style scoped>\n",
       "    .dataframe tbody tr th:only-of-type {\n",
       "        vertical-align: middle;\n",
       "    }\n",
       "\n",
       "    .dataframe tbody tr th {\n",
       "        vertical-align: top;\n",
       "    }\n",
       "\n",
       "    .dataframe thead th {\n",
       "        text-align: right;\n",
       "    }\n",
       "</style>\n",
       "<table border=\"1\" class=\"dataframe\">\n",
       "  <thead>\n",
       "    <tr style=\"text-align: right;\">\n",
       "      <th></th>\n",
       "      <th>PCE</th>\n",
       "    </tr>\n",
       "    <tr>\n",
       "      <th>DATE</th>\n",
       "      <th></th>\n",
       "    </tr>\n",
       "  </thead>\n",
       "  <tbody>\n",
       "  </tbody>\n",
       "</table>\n",
       "</div>"
      ],
      "text/plain": [
       "Empty DataFrame\n",
       "Columns: [PCE]\n",
       "Index: []"
      ]
     },
     "execution_count": 19,
     "metadata": {},
     "output_type": "execute_result"
    }
   ],
   "source": [
    "check_outliers(df_pce, 'PCE')"
   ]
  },
  {
   "cell_type": "code",
   "execution_count": 20,
   "id": "cff9e2d0-b1bb-4676-9597-953dc9194ab5",
   "metadata": {},
   "outputs": [
    {
     "data": {
      "text/html": [
       "<div>\n",
       "<style scoped>\n",
       "    .dataframe tbody tr th:only-of-type {\n",
       "        vertical-align: middle;\n",
       "    }\n",
       "\n",
       "    .dataframe tbody tr th {\n",
       "        vertical-align: top;\n",
       "    }\n",
       "\n",
       "    .dataframe thead th {\n",
       "        text-align: right;\n",
       "    }\n",
       "</style>\n",
       "<table border=\"1\" class=\"dataframe\">\n",
       "  <thead>\n",
       "    <tr style=\"text-align: right;\">\n",
       "      <th></th>\n",
       "      <th>PPIACO</th>\n",
       "    </tr>\n",
       "    <tr>\n",
       "      <th>DATE</th>\n",
       "      <th></th>\n",
       "    </tr>\n",
       "  </thead>\n",
       "  <tbody>\n",
       "    <tr>\n",
       "      <th>1913-01-01</th>\n",
       "      <td>12.100</td>\n",
       "    </tr>\n",
       "    <tr>\n",
       "      <th>1913-02-01</th>\n",
       "      <td>12.000</td>\n",
       "    </tr>\n",
       "    <tr>\n",
       "      <th>1913-03-01</th>\n",
       "      <td>12.000</td>\n",
       "    </tr>\n",
       "    <tr>\n",
       "      <th>1913-04-01</th>\n",
       "      <td>12.000</td>\n",
       "    </tr>\n",
       "    <tr>\n",
       "      <th>1913-05-01</th>\n",
       "      <td>11.900</td>\n",
       "    </tr>\n",
       "    <tr>\n",
       "      <th>...</th>\n",
       "      <td>...</td>\n",
       "    </tr>\n",
       "    <tr>\n",
       "      <th>2024-01-01</th>\n",
       "      <td>251.306</td>\n",
       "    </tr>\n",
       "    <tr>\n",
       "      <th>2024-02-01</th>\n",
       "      <td>254.914</td>\n",
       "    </tr>\n",
       "    <tr>\n",
       "      <th>2024-03-01</th>\n",
       "      <td>255.116</td>\n",
       "    </tr>\n",
       "    <tr>\n",
       "      <th>2024-04-01</th>\n",
       "      <td>257.153</td>\n",
       "    </tr>\n",
       "    <tr>\n",
       "      <th>2024-05-01</th>\n",
       "      <td>254.971</td>\n",
       "    </tr>\n",
       "  </tbody>\n",
       "</table>\n",
       "<p>1337 rows × 1 columns</p>\n",
       "</div>"
      ],
      "text/plain": [
       "             PPIACO\n",
       "DATE               \n",
       "1913-01-01   12.100\n",
       "1913-02-01   12.000\n",
       "1913-03-01   12.000\n",
       "1913-04-01   12.000\n",
       "1913-05-01   11.900\n",
       "...             ...\n",
       "2024-01-01  251.306\n",
       "2024-02-01  254.914\n",
       "2024-03-01  255.116\n",
       "2024-04-01  257.153\n",
       "2024-05-01  254.971\n",
       "\n",
       "[1337 rows x 1 columns]"
      ]
     },
     "execution_count": 20,
     "metadata": {},
     "output_type": "execute_result"
    }
   ],
   "source": [
    "df_ppi"
   ]
  },
  {
   "cell_type": "code",
   "execution_count": 21,
   "id": "96e9b419-57e4-4606-a8aa-d32387368caf",
   "metadata": {},
   "outputs": [
    {
     "data": {
      "text/html": [
       "<div>\n",
       "<style scoped>\n",
       "    .dataframe tbody tr th:only-of-type {\n",
       "        vertical-align: middle;\n",
       "    }\n",
       "\n",
       "    .dataframe tbody tr th {\n",
       "        vertical-align: top;\n",
       "    }\n",
       "\n",
       "    .dataframe thead th {\n",
       "        text-align: right;\n",
       "    }\n",
       "</style>\n",
       "<table border=\"1\" class=\"dataframe\">\n",
       "  <thead>\n",
       "    <tr style=\"text-align: right;\">\n",
       "      <th></th>\n",
       "      <th>PPIACO</th>\n",
       "    </tr>\n",
       "    <tr>\n",
       "      <th>DATE</th>\n",
       "      <th></th>\n",
       "    </tr>\n",
       "  </thead>\n",
       "  <tbody>\n",
       "  </tbody>\n",
       "</table>\n",
       "</div>"
      ],
      "text/plain": [
       "Empty DataFrame\n",
       "Columns: [PPIACO]\n",
       "Index: []"
      ]
     },
     "execution_count": 21,
     "metadata": {},
     "output_type": "execute_result"
    }
   ],
   "source": [
    "check_outliers(df_ppi, 'PPIACO')"
   ]
  },
  {
   "cell_type": "code",
   "execution_count": 22,
   "id": "9cd7261e-2056-48c8-9816-e26dc28c8312",
   "metadata": {},
   "outputs": [
    {
     "data": {
      "text/html": [
       "<div>\n",
       "<style scoped>\n",
       "    .dataframe tbody tr th:only-of-type {\n",
       "        vertical-align: middle;\n",
       "    }\n",
       "\n",
       "    .dataframe tbody tr th {\n",
       "        vertical-align: top;\n",
       "    }\n",
       "\n",
       "    .dataframe thead th {\n",
       "        text-align: right;\n",
       "    }\n",
       "</style>\n",
       "<table border=\"1\" class=\"dataframe\">\n",
       "  <thead>\n",
       "    <tr style=\"text-align: right;\">\n",
       "      <th></th>\n",
       "      <th>FRBATLWGTUMHWG83O</th>\n",
       "    </tr>\n",
       "    <tr>\n",
       "      <th>DATE</th>\n",
       "      <th></th>\n",
       "    </tr>\n",
       "  </thead>\n",
       "  <tbody>\n",
       "    <tr>\n",
       "      <th>1983-01-01</th>\n",
       "      <td>6.5</td>\n",
       "    </tr>\n",
       "    <tr>\n",
       "      <th>1983-02-01</th>\n",
       "      <td>6.1</td>\n",
       "    </tr>\n",
       "    <tr>\n",
       "      <th>1983-03-01</th>\n",
       "      <td>5.7</td>\n",
       "    </tr>\n",
       "    <tr>\n",
       "      <th>1983-04-01</th>\n",
       "      <td>5.7</td>\n",
       "    </tr>\n",
       "    <tr>\n",
       "      <th>1983-05-01</th>\n",
       "      <td>5.8</td>\n",
       "    </tr>\n",
       "    <tr>\n",
       "      <th>...</th>\n",
       "      <td>...</td>\n",
       "    </tr>\n",
       "    <tr>\n",
       "      <th>2023-11-01</th>\n",
       "      <td>5.1</td>\n",
       "    </tr>\n",
       "    <tr>\n",
       "      <th>2023-12-01</th>\n",
       "      <td>5.4</td>\n",
       "    </tr>\n",
       "    <tr>\n",
       "      <th>2024-01-01</th>\n",
       "      <td>4.7</td>\n",
       "    </tr>\n",
       "    <tr>\n",
       "      <th>2024-02-01</th>\n",
       "      <td>4.9</td>\n",
       "    </tr>\n",
       "    <tr>\n",
       "      <th>2024-03-01</th>\n",
       "      <td>4.7</td>\n",
       "    </tr>\n",
       "  </tbody>\n",
       "</table>\n",
       "<p>495 rows × 1 columns</p>\n",
       "</div>"
      ],
      "text/plain": [
       "           FRBATLWGTUMHWG83O\n",
       "DATE                        \n",
       "1983-01-01               6.5\n",
       "1983-02-01               6.1\n",
       "1983-03-01               5.7\n",
       "1983-04-01               5.7\n",
       "1983-05-01               5.8\n",
       "...                      ...\n",
       "2023-11-01               5.1\n",
       "2023-12-01               5.4\n",
       "2024-01-01               4.7\n",
       "2024-02-01               4.9\n",
       "2024-03-01               4.7\n",
       "\n",
       "[495 rows x 1 columns]"
      ]
     },
     "execution_count": 22,
     "metadata": {},
     "output_type": "execute_result"
    }
   ],
   "source": [
    "df_wg"
   ]
  },
  {
   "cell_type": "code",
   "execution_count": 23,
   "id": "5f32f5a2-6064-4efd-a0b1-b4b89a9b4482",
   "metadata": {},
   "outputs": [],
   "source": [
    "df_wg.replace('.', np.nan,  inplace=True)"
   ]
  },
  {
   "cell_type": "code",
   "execution_count": 24,
   "id": "251c4a89-4ef9-4be3-80ce-e0dcf25b4026",
   "metadata": {},
   "outputs": [],
   "source": [
    "df_wg.dropna(inplace=True)"
   ]
  },
  {
   "cell_type": "code",
   "execution_count": 25,
   "id": "e6b9b2df-5503-498e-a083-722181e74fef",
   "metadata": {},
   "outputs": [],
   "source": [
    "df_wg['FRBATLWGTUMHWG83O'] = pd.to_numeric(df_wg['FRBATLWGTUMHWG83O'])"
   ]
  },
  {
   "cell_type": "code",
   "execution_count": 26,
   "id": "0a036e58-a313-47c6-943d-deccc269bed9",
   "metadata": {},
   "outputs": [
    {
     "data": {
      "text/html": [
       "<div>\n",
       "<style scoped>\n",
       "    .dataframe tbody tr th:only-of-type {\n",
       "        vertical-align: middle;\n",
       "    }\n",
       "\n",
       "    .dataframe tbody tr th {\n",
       "        vertical-align: top;\n",
       "    }\n",
       "\n",
       "    .dataframe thead th {\n",
       "        text-align: right;\n",
       "    }\n",
       "</style>\n",
       "<table border=\"1\" class=\"dataframe\">\n",
       "  <thead>\n",
       "    <tr style=\"text-align: right;\">\n",
       "      <th></th>\n",
       "      <th>FRBATLWGTUMHWG83O</th>\n",
       "    </tr>\n",
       "    <tr>\n",
       "      <th>DATE</th>\n",
       "      <th></th>\n",
       "    </tr>\n",
       "  </thead>\n",
       "  <tbody>\n",
       "  </tbody>\n",
       "</table>\n",
       "</div>"
      ],
      "text/plain": [
       "Empty DataFrame\n",
       "Columns: [FRBATLWGTUMHWG83O]\n",
       "Index: []"
      ]
     },
     "execution_count": 26,
     "metadata": {},
     "output_type": "execute_result"
    }
   ],
   "source": [
    "check_outliers(df_wg, 'FRBATLWGTUMHWG83O')"
   ]
  },
  {
   "cell_type": "code",
   "execution_count": 27,
   "id": "0a050b67-c941-4a7d-9a29-e5d8dca0aaa7",
   "metadata": {},
   "outputs": [
    {
     "data": {
      "text/html": [
       "<div>\n",
       "<style scoped>\n",
       "    .dataframe tbody tr th:only-of-type {\n",
       "        vertical-align: middle;\n",
       "    }\n",
       "\n",
       "    .dataframe tbody tr th {\n",
       "        vertical-align: top;\n",
       "    }\n",
       "\n",
       "    .dataframe thead th {\n",
       "        text-align: right;\n",
       "    }\n",
       "</style>\n",
       "<table border=\"1\" class=\"dataframe\">\n",
       "  <thead>\n",
       "    <tr style=\"text-align: right;\">\n",
       "      <th></th>\n",
       "      <th></th>\n",
       "      <th></th>\n",
       "      <th>Table 1: The Index of Consumer Sentiment</th>\n",
       "    </tr>\n",
       "  </thead>\n",
       "  <tbody>\n",
       "    <tr>\n",
       "      <th>Month</th>\n",
       "      <th>Year</th>\n",
       "      <th>Index</th>\n",
       "      <td>NaN</td>\n",
       "    </tr>\n",
       "    <tr>\n",
       "      <th>1</th>\n",
       "      <th>1978</th>\n",
       "      <th>83.7</th>\n",
       "      <td>NaN</td>\n",
       "    </tr>\n",
       "    <tr>\n",
       "      <th>2</th>\n",
       "      <th>1978</th>\n",
       "      <th>84.3</th>\n",
       "      <td>NaN</td>\n",
       "    </tr>\n",
       "    <tr>\n",
       "      <th>3</th>\n",
       "      <th>1978</th>\n",
       "      <th>78.8</th>\n",
       "      <td>NaN</td>\n",
       "    </tr>\n",
       "    <tr>\n",
       "      <th>4</th>\n",
       "      <th>1978</th>\n",
       "      <th>81.6</th>\n",
       "      <td>NaN</td>\n",
       "    </tr>\n",
       "    <tr>\n",
       "      <th>...</th>\n",
       "      <th>...</th>\n",
       "      <th>...</th>\n",
       "      <td>...</td>\n",
       "    </tr>\n",
       "    <tr>\n",
       "      <th>1</th>\n",
       "      <th>2024</th>\n",
       "      <th>79</th>\n",
       "      <td>NaN</td>\n",
       "    </tr>\n",
       "    <tr>\n",
       "      <th>2</th>\n",
       "      <th>2024</th>\n",
       "      <th>76.9</th>\n",
       "      <td>NaN</td>\n",
       "    </tr>\n",
       "    <tr>\n",
       "      <th>3</th>\n",
       "      <th>2024</th>\n",
       "      <th>79.4</th>\n",
       "      <td>NaN</td>\n",
       "    </tr>\n",
       "    <tr>\n",
       "      <th>4</th>\n",
       "      <th>2024</th>\n",
       "      <th>77.2</th>\n",
       "      <td>NaN</td>\n",
       "    </tr>\n",
       "    <tr>\n",
       "      <th>5</th>\n",
       "      <th>2024</th>\n",
       "      <th>69.1</th>\n",
       "      <td>NaN</td>\n",
       "    </tr>\n",
       "  </tbody>\n",
       "</table>\n",
       "<p>558 rows × 1 columns</p>\n",
       "</div>"
      ],
      "text/plain": [
       "                  Table 1: The Index of Consumer Sentiment\n",
       "Month Year Index                                       NaN\n",
       "1     1978 83.7                                        NaN\n",
       "2     1978 84.3                                        NaN\n",
       "3     1978 78.8                                        NaN\n",
       "4     1978 81.6                                        NaN\n",
       "...                                                    ...\n",
       "1     2024 79                                          NaN\n",
       "2     2024 76.9                                        NaN\n",
       "3     2024 79.4                                        NaN\n",
       "4     2024 77.2                                        NaN\n",
       "5     2024 69.1                                        NaN\n",
       "\n",
       "[558 rows x 1 columns]"
      ]
     },
     "execution_count": 27,
     "metadata": {},
     "output_type": "execute_result"
    }
   ],
   "source": [
    "df_csi # need to drop the table 1 column"
   ]
  },
  {
   "cell_type": "code",
   "execution_count": 28,
   "id": "039a5f63-51bc-4ac8-88ae-edb8aacf9a9c",
   "metadata": {},
   "outputs": [],
   "source": [
    "df_csi = df_csi.reset_index()"
   ]
  },
  {
   "cell_type": "code",
   "execution_count": 29,
   "id": "a12145fa-34f2-4e1c-a946-108a8940284c",
   "metadata": {},
   "outputs": [],
   "source": [
    "df_csi.rename({\"level_2\" : \"csi\"}, axis=1, inplace=True)"
   ]
  },
  {
   "cell_type": "code",
   "execution_count": 30,
   "id": "2f9ab3cd-3ee6-46f3-bc3e-a9a0656cc701",
   "metadata": {},
   "outputs": [],
   "source": [
    "df_csi.drop(labels=0 , inplace = True)\n",
    "df_csi.drop('Table 1: The Index of Consumer Sentiment', axis = 1, inplace=True)"
   ]
  },
  {
   "cell_type": "code",
   "execution_count": 31,
   "id": "ac30041c-b78e-4243-87b7-17021487383c",
   "metadata": {},
   "outputs": [
    {
     "data": {
      "text/html": [
       "<div>\n",
       "<style scoped>\n",
       "    .dataframe tbody tr th:only-of-type {\n",
       "        vertical-align: middle;\n",
       "    }\n",
       "\n",
       "    .dataframe tbody tr th {\n",
       "        vertical-align: top;\n",
       "    }\n",
       "\n",
       "    .dataframe thead th {\n",
       "        text-align: right;\n",
       "    }\n",
       "</style>\n",
       "<table border=\"1\" class=\"dataframe\">\n",
       "  <thead>\n",
       "    <tr style=\"text-align: right;\">\n",
       "      <th></th>\n",
       "      <th>level_0</th>\n",
       "      <th>level_1</th>\n",
       "      <th>csi</th>\n",
       "    </tr>\n",
       "  </thead>\n",
       "  <tbody>\n",
       "    <tr>\n",
       "      <th>1</th>\n",
       "      <td>1</td>\n",
       "      <td>1978</td>\n",
       "      <td>83.7</td>\n",
       "    </tr>\n",
       "    <tr>\n",
       "      <th>2</th>\n",
       "      <td>2</td>\n",
       "      <td>1978</td>\n",
       "      <td>84.3</td>\n",
       "    </tr>\n",
       "    <tr>\n",
       "      <th>3</th>\n",
       "      <td>3</td>\n",
       "      <td>1978</td>\n",
       "      <td>78.8</td>\n",
       "    </tr>\n",
       "    <tr>\n",
       "      <th>4</th>\n",
       "      <td>4</td>\n",
       "      <td>1978</td>\n",
       "      <td>81.6</td>\n",
       "    </tr>\n",
       "    <tr>\n",
       "      <th>5</th>\n",
       "      <td>5</td>\n",
       "      <td>1978</td>\n",
       "      <td>82.9</td>\n",
       "    </tr>\n",
       "    <tr>\n",
       "      <th>...</th>\n",
       "      <td>...</td>\n",
       "      <td>...</td>\n",
       "      <td>...</td>\n",
       "    </tr>\n",
       "    <tr>\n",
       "      <th>553</th>\n",
       "      <td>1</td>\n",
       "      <td>2024</td>\n",
       "      <td>79</td>\n",
       "    </tr>\n",
       "    <tr>\n",
       "      <th>554</th>\n",
       "      <td>2</td>\n",
       "      <td>2024</td>\n",
       "      <td>76.9</td>\n",
       "    </tr>\n",
       "    <tr>\n",
       "      <th>555</th>\n",
       "      <td>3</td>\n",
       "      <td>2024</td>\n",
       "      <td>79.4</td>\n",
       "    </tr>\n",
       "    <tr>\n",
       "      <th>556</th>\n",
       "      <td>4</td>\n",
       "      <td>2024</td>\n",
       "      <td>77.2</td>\n",
       "    </tr>\n",
       "    <tr>\n",
       "      <th>557</th>\n",
       "      <td>5</td>\n",
       "      <td>2024</td>\n",
       "      <td>69.1</td>\n",
       "    </tr>\n",
       "  </tbody>\n",
       "</table>\n",
       "<p>557 rows × 3 columns</p>\n",
       "</div>"
      ],
      "text/plain": [
       "    level_0 level_1   csi\n",
       "1         1    1978  83.7\n",
       "2         2    1978  84.3\n",
       "3         3    1978  78.8\n",
       "4         4    1978  81.6\n",
       "5         5    1978  82.9\n",
       "..      ...     ...   ...\n",
       "553       1    2024    79\n",
       "554       2    2024  76.9\n",
       "555       3    2024  79.4\n",
       "556       4    2024  77.2\n",
       "557       5    2024  69.1\n",
       "\n",
       "[557 rows x 3 columns]"
      ]
     },
     "execution_count": 31,
     "metadata": {},
     "output_type": "execute_result"
    }
   ],
   "source": [
    "df_csi"
   ]
  },
  {
   "cell_type": "code",
   "execution_count": 32,
   "id": "346357ee-f855-4b10-b639-3d08205a7d1f",
   "metadata": {},
   "outputs": [
    {
     "data": {
      "text/html": [
       "<div>\n",
       "<style scoped>\n",
       "    .dataframe tbody tr th:only-of-type {\n",
       "        vertical-align: middle;\n",
       "    }\n",
       "\n",
       "    .dataframe tbody tr th {\n",
       "        vertical-align: top;\n",
       "    }\n",
       "\n",
       "    .dataframe thead th {\n",
       "        text-align: right;\n",
       "    }\n",
       "</style>\n",
       "<table border=\"1\" class=\"dataframe\">\n",
       "  <thead>\n",
       "    <tr style=\"text-align: right;\">\n",
       "      <th></th>\n",
       "      <th>CIS1020000000000I</th>\n",
       "    </tr>\n",
       "    <tr>\n",
       "      <th>DATE</th>\n",
       "      <th></th>\n",
       "    </tr>\n",
       "  </thead>\n",
       "  <tbody>\n",
       "    <tr>\n",
       "      <th>2001-01-01</th>\n",
       "      <td>87.6</td>\n",
       "    </tr>\n",
       "    <tr>\n",
       "      <th>2001-04-01</th>\n",
       "      <td>88.4</td>\n",
       "    </tr>\n",
       "    <tr>\n",
       "      <th>2001-07-01</th>\n",
       "      <td>89.2</td>\n",
       "    </tr>\n",
       "    <tr>\n",
       "      <th>2001-10-01</th>\n",
       "      <td>90.0</td>\n",
       "    </tr>\n",
       "    <tr>\n",
       "      <th>2002-01-01</th>\n",
       "      <td>90.7</td>\n",
       "    </tr>\n",
       "    <tr>\n",
       "      <th>...</th>\n",
       "      <td>...</td>\n",
       "    </tr>\n",
       "    <tr>\n",
       "      <th>2023-01-01</th>\n",
       "      <td>157.1</td>\n",
       "    </tr>\n",
       "    <tr>\n",
       "      <th>2023-04-01</th>\n",
       "      <td>158.7</td>\n",
       "    </tr>\n",
       "    <tr>\n",
       "      <th>2023-07-01</th>\n",
       "      <td>160.4</td>\n",
       "    </tr>\n",
       "    <tr>\n",
       "      <th>2023-10-01</th>\n",
       "      <td>162.1</td>\n",
       "    </tr>\n",
       "    <tr>\n",
       "      <th>2024-01-01</th>\n",
       "      <td>163.9</td>\n",
       "    </tr>\n",
       "  </tbody>\n",
       "</table>\n",
       "<p>93 rows × 1 columns</p>\n",
       "</div>"
      ],
      "text/plain": [
       "            CIS1020000000000I\n",
       "DATE                         \n",
       "2001-01-01               87.6\n",
       "2001-04-01               88.4\n",
       "2001-07-01               89.2\n",
       "2001-10-01               90.0\n",
       "2002-01-01               90.7\n",
       "...                       ...\n",
       "2023-01-01              157.1\n",
       "2023-04-01              158.7\n",
       "2023-07-01              160.4\n",
       "2023-10-01              162.1\n",
       "2024-01-01              163.9\n",
       "\n",
       "[93 rows x 1 columns]"
      ]
     },
     "execution_count": 32,
     "metadata": {},
     "output_type": "execute_result"
    }
   ],
   "source": [
    "df_eci"
   ]
  },
  {
   "cell_type": "code",
   "execution_count": 33,
   "id": "7a85b188-3e12-4c12-8824-94a11129970b",
   "metadata": {},
   "outputs": [
    {
     "data": {
      "text/html": [
       "<div>\n",
       "<style scoped>\n",
       "    .dataframe tbody tr th:only-of-type {\n",
       "        vertical-align: middle;\n",
       "    }\n",
       "\n",
       "    .dataframe tbody tr th {\n",
       "        vertical-align: top;\n",
       "    }\n",
       "\n",
       "    .dataframe thead th {\n",
       "        text-align: right;\n",
       "    }\n",
       "</style>\n",
       "<table border=\"1\" class=\"dataframe\">\n",
       "  <thead>\n",
       "    <tr style=\"text-align: right;\">\n",
       "      <th></th>\n",
       "      <th>IR</th>\n",
       "    </tr>\n",
       "    <tr>\n",
       "      <th>DATE</th>\n",
       "      <th></th>\n",
       "    </tr>\n",
       "  </thead>\n",
       "  <tbody>\n",
       "    <tr>\n",
       "      <th>1982-09-01</th>\n",
       "      <td>80.0</td>\n",
       "    </tr>\n",
       "    <tr>\n",
       "      <th>1982-12-01</th>\n",
       "      <td>79.9</td>\n",
       "    </tr>\n",
       "    <tr>\n",
       "      <th>1983-03-01</th>\n",
       "      <td>77.7</td>\n",
       "    </tr>\n",
       "    <tr>\n",
       "      <th>1983-06-01</th>\n",
       "      <td>77.8</td>\n",
       "    </tr>\n",
       "    <tr>\n",
       "      <th>1983-09-01</th>\n",
       "      <td>77.6</td>\n",
       "    </tr>\n",
       "    <tr>\n",
       "      <th>...</th>\n",
       "      <td>...</td>\n",
       "    </tr>\n",
       "    <tr>\n",
       "      <th>2024-01-01</th>\n",
       "      <td>139.4</td>\n",
       "    </tr>\n",
       "    <tr>\n",
       "      <th>2024-02-01</th>\n",
       "      <td>139.7</td>\n",
       "    </tr>\n",
       "    <tr>\n",
       "      <th>2024-03-01</th>\n",
       "      <td>140.5</td>\n",
       "    </tr>\n",
       "    <tr>\n",
       "      <th>2024-04-01</th>\n",
       "      <td>141.8</td>\n",
       "    </tr>\n",
       "    <tr>\n",
       "      <th>2024-05-01</th>\n",
       "      <td>141.2</td>\n",
       "    </tr>\n",
       "  </tbody>\n",
       "</table>\n",
       "<p>451 rows × 1 columns</p>\n",
       "</div>"
      ],
      "text/plain": [
       "               IR\n",
       "DATE             \n",
       "1982-09-01   80.0\n",
       "1982-12-01   79.9\n",
       "1983-03-01   77.7\n",
       "1983-06-01   77.8\n",
       "1983-09-01   77.6\n",
       "...           ...\n",
       "2024-01-01  139.4\n",
       "2024-02-01  139.7\n",
       "2024-03-01  140.5\n",
       "2024-04-01  141.8\n",
       "2024-05-01  141.2\n",
       "\n",
       "[451 rows x 1 columns]"
      ]
     },
     "execution_count": 33,
     "metadata": {},
     "output_type": "execute_result"
    }
   ],
   "source": [
    "df_gpd"
   ]
  },
  {
   "cell_type": "code",
   "execution_count": 34,
   "id": "4767dd1e-a305-4106-b139-abb9e39cfb32",
   "metadata": {},
   "outputs": [],
   "source": [
    "merged1 = df_eci.join(df_gpd)"
   ]
  },
  {
   "cell_type": "code",
   "execution_count": 35,
   "id": "162bd057-13da-4323-a48b-8e774fa5f6d7",
   "metadata": {},
   "outputs": [],
   "source": [
    "merged1 = merged1.join(df_op)"
   ]
  },
  {
   "cell_type": "code",
   "execution_count": 36,
   "id": "badee73e-4f92-4d32-9ca1-51f8a1eb5617",
   "metadata": {},
   "outputs": [],
   "source": [
    "merged1 = merged1.join(df_pce)"
   ]
  },
  {
   "cell_type": "code",
   "execution_count": 37,
   "id": "b63cc648-d014-4f42-bebd-165995161aa4",
   "metadata": {},
   "outputs": [],
   "source": [
    "merged1 = merged1.join(df_ppi)"
   ]
  },
  {
   "cell_type": "code",
   "execution_count": 38,
   "id": "9f52b012-7745-466f-bf55-4485c2ddc102",
   "metadata": {},
   "outputs": [],
   "source": [
    "merged1 = merged1.join(df_wg)"
   ]
  },
  {
   "cell_type": "code",
   "execution_count": 39,
   "id": "e66bf9f2-c09f-4c67-9ef6-9fedcd1489d8",
   "metadata": {},
   "outputs": [],
   "source": [
    "merged1 = merged1.join(df_cpi)"
   ]
  },
  {
   "cell_type": "code",
   "execution_count": 40,
   "id": "f47ae17d",
   "metadata": {},
   "outputs": [
    {
     "data": {
      "text/html": [
       "<div>\n",
       "<style scoped>\n",
       "    .dataframe tbody tr th:only-of-type {\n",
       "        vertical-align: middle;\n",
       "    }\n",
       "\n",
       "    .dataframe tbody tr th {\n",
       "        vertical-align: top;\n",
       "    }\n",
       "\n",
       "    .dataframe thead th {\n",
       "        text-align: right;\n",
       "    }\n",
       "</style>\n",
       "<table border=\"1\" class=\"dataframe\">\n",
       "  <thead>\n",
       "    <tr style=\"text-align: right;\">\n",
       "      <th></th>\n",
       "      <th>CIS1020000000000I</th>\n",
       "      <th>IR</th>\n",
       "      <th>POILWTIUSDM</th>\n",
       "      <th>PCE</th>\n",
       "      <th>PPIACO</th>\n",
       "      <th>FRBATLWGTUMHWG83O</th>\n",
       "      <th>CPIAUCSL</th>\n",
       "    </tr>\n",
       "    <tr>\n",
       "      <th>DATE</th>\n",
       "      <th></th>\n",
       "      <th></th>\n",
       "      <th></th>\n",
       "      <th></th>\n",
       "      <th></th>\n",
       "      <th></th>\n",
       "      <th></th>\n",
       "    </tr>\n",
       "  </thead>\n",
       "  <tbody>\n",
       "    <tr>\n",
       "      <th>2001-01-01</th>\n",
       "      <td>87.6</td>\n",
       "      <td>100.5</td>\n",
       "      <td>29.482174</td>\n",
       "      <td>6987.4</td>\n",
       "      <td>140.000</td>\n",
       "      <td>5.3</td>\n",
       "      <td>175.600</td>\n",
       "    </tr>\n",
       "    <tr>\n",
       "      <th>2001-04-01</th>\n",
       "      <td>88.4</td>\n",
       "      <td>97.8</td>\n",
       "      <td>27.453810</td>\n",
       "      <td>7004.2</td>\n",
       "      <td>136.400</td>\n",
       "      <td>5.4</td>\n",
       "      <td>176.400</td>\n",
       "    </tr>\n",
       "    <tr>\n",
       "      <th>2001-07-01</th>\n",
       "      <td>89.2</td>\n",
       "      <td>96.1</td>\n",
       "      <td>26.435909</td>\n",
       "      <td>7082.3</td>\n",
       "      <td>133.400</td>\n",
       "      <td>5.1</td>\n",
       "      <td>177.400</td>\n",
       "    </tr>\n",
       "    <tr>\n",
       "      <th>2001-10-01</th>\n",
       "      <td>90.0</td>\n",
       "      <td>93.7</td>\n",
       "      <td>22.210435</td>\n",
       "      <td>7212.9</td>\n",
       "      <td>130.300</td>\n",
       "      <td>5.1</td>\n",
       "      <td>177.600</td>\n",
       "    </tr>\n",
       "    <tr>\n",
       "      <th>2002-01-01</th>\n",
       "      <td>90.7</td>\n",
       "      <td>91.6</td>\n",
       "      <td>19.607391</td>\n",
       "      <td>7184.6</td>\n",
       "      <td>128.500</td>\n",
       "      <td>4.8</td>\n",
       "      <td>177.700</td>\n",
       "    </tr>\n",
       "    <tr>\n",
       "      <th>...</th>\n",
       "      <td>...</td>\n",
       "      <td>...</td>\n",
       "      <td>...</td>\n",
       "      <td>...</td>\n",
       "      <td>...</td>\n",
       "      <td>...</td>\n",
       "      <td>...</td>\n",
       "    </tr>\n",
       "    <tr>\n",
       "      <th>2023-01-01</th>\n",
       "      <td>157.1</td>\n",
       "      <td>141.3</td>\n",
       "      <td>78.251364</td>\n",
       "      <td>18229.6</td>\n",
       "      <td>260.227</td>\n",
       "      <td>6.2</td>\n",
       "      <td>300.356</td>\n",
       "    </tr>\n",
       "    <tr>\n",
       "      <th>2023-04-01</th>\n",
       "      <td>158.7</td>\n",
       "      <td>140.3</td>\n",
       "      <td>79.126500</td>\n",
       "      <td>18363.8</td>\n",
       "      <td>256.908</td>\n",
       "      <td>5.1</td>\n",
       "      <td>303.032</td>\n",
       "    </tr>\n",
       "    <tr>\n",
       "      <th>2023-07-01</th>\n",
       "      <td>160.4</td>\n",
       "      <td>139.4</td>\n",
       "      <td>75.766667</td>\n",
       "      <td>18595.4</td>\n",
       "      <td>253.835</td>\n",
       "      <td>5.3</td>\n",
       "      <td>304.628</td>\n",
       "    </tr>\n",
       "    <tr>\n",
       "      <th>2023-10-01</th>\n",
       "      <td>162.1</td>\n",
       "      <td>140.1</td>\n",
       "      <td>85.469091</td>\n",
       "      <td>18826.8</td>\n",
       "      <td>255.192</td>\n",
       "      <td>5.2</td>\n",
       "      <td>307.531</td>\n",
       "    </tr>\n",
       "    <tr>\n",
       "      <th>2024-01-01</th>\n",
       "      <td>163.9</td>\n",
       "      <td>139.4</td>\n",
       "      <td>74.003043</td>\n",
       "      <td>19028.0</td>\n",
       "      <td>251.306</td>\n",
       "      <td>4.7</td>\n",
       "      <td>309.685</td>\n",
       "    </tr>\n",
       "  </tbody>\n",
       "</table>\n",
       "<p>93 rows × 7 columns</p>\n",
       "</div>"
      ],
      "text/plain": [
       "            CIS1020000000000I     IR  POILWTIUSDM      PCE   PPIACO  \\\n",
       "DATE                                                                  \n",
       "2001-01-01               87.6  100.5    29.482174   6987.4  140.000   \n",
       "2001-04-01               88.4   97.8    27.453810   7004.2  136.400   \n",
       "2001-07-01               89.2   96.1    26.435909   7082.3  133.400   \n",
       "2001-10-01               90.0   93.7    22.210435   7212.9  130.300   \n",
       "2002-01-01               90.7   91.6    19.607391   7184.6  128.500   \n",
       "...                       ...    ...          ...      ...      ...   \n",
       "2023-01-01              157.1  141.3    78.251364  18229.6  260.227   \n",
       "2023-04-01              158.7  140.3    79.126500  18363.8  256.908   \n",
       "2023-07-01              160.4  139.4    75.766667  18595.4  253.835   \n",
       "2023-10-01              162.1  140.1    85.469091  18826.8  255.192   \n",
       "2024-01-01              163.9  139.4    74.003043  19028.0  251.306   \n",
       "\n",
       "            FRBATLWGTUMHWG83O  CPIAUCSL  \n",
       "DATE                                     \n",
       "2001-01-01                5.3   175.600  \n",
       "2001-04-01                5.4   176.400  \n",
       "2001-07-01                5.1   177.400  \n",
       "2001-10-01                5.1   177.600  \n",
       "2002-01-01                4.8   177.700  \n",
       "...                       ...       ...  \n",
       "2023-01-01                6.2   300.356  \n",
       "2023-04-01                5.1   303.032  \n",
       "2023-07-01                5.3   304.628  \n",
       "2023-10-01                5.2   307.531  \n",
       "2024-01-01                4.7   309.685  \n",
       "\n",
       "[93 rows x 7 columns]"
      ]
     },
     "execution_count": 40,
     "metadata": {},
     "output_type": "execute_result"
    }
   ],
   "source": [
    "merged1"
   ]
  },
  {
   "cell_type": "code",
   "execution_count": 41,
   "id": "201f86e8-1680-4c78-a531-aaec7a31648e",
   "metadata": {},
   "outputs": [
    {
     "data": {
      "text/html": [
       "<div>\n",
       "<style scoped>\n",
       "    .dataframe tbody tr th:only-of-type {\n",
       "        vertical-align: middle;\n",
       "    }\n",
       "\n",
       "    .dataframe tbody tr th {\n",
       "        vertical-align: top;\n",
       "    }\n",
       "\n",
       "    .dataframe thead th {\n",
       "        text-align: right;\n",
       "    }\n",
       "</style>\n",
       "<table border=\"1\" class=\"dataframe\">\n",
       "  <thead>\n",
       "    <tr style=\"text-align: right;\">\n",
       "      <th></th>\n",
       "      <th>level_0</th>\n",
       "      <th>level_1</th>\n",
       "      <th>csi</th>\n",
       "    </tr>\n",
       "  </thead>\n",
       "  <tbody>\n",
       "    <tr>\n",
       "      <th>1</th>\n",
       "      <td>1</td>\n",
       "      <td>1978</td>\n",
       "      <td>83.7</td>\n",
       "    </tr>\n",
       "    <tr>\n",
       "      <th>2</th>\n",
       "      <td>2</td>\n",
       "      <td>1978</td>\n",
       "      <td>84.3</td>\n",
       "    </tr>\n",
       "    <tr>\n",
       "      <th>3</th>\n",
       "      <td>3</td>\n",
       "      <td>1978</td>\n",
       "      <td>78.8</td>\n",
       "    </tr>\n",
       "    <tr>\n",
       "      <th>4</th>\n",
       "      <td>4</td>\n",
       "      <td>1978</td>\n",
       "      <td>81.6</td>\n",
       "    </tr>\n",
       "    <tr>\n",
       "      <th>5</th>\n",
       "      <td>5</td>\n",
       "      <td>1978</td>\n",
       "      <td>82.9</td>\n",
       "    </tr>\n",
       "    <tr>\n",
       "      <th>...</th>\n",
       "      <td>...</td>\n",
       "      <td>...</td>\n",
       "      <td>...</td>\n",
       "    </tr>\n",
       "    <tr>\n",
       "      <th>553</th>\n",
       "      <td>1</td>\n",
       "      <td>2024</td>\n",
       "      <td>79</td>\n",
       "    </tr>\n",
       "    <tr>\n",
       "      <th>554</th>\n",
       "      <td>2</td>\n",
       "      <td>2024</td>\n",
       "      <td>76.9</td>\n",
       "    </tr>\n",
       "    <tr>\n",
       "      <th>555</th>\n",
       "      <td>3</td>\n",
       "      <td>2024</td>\n",
       "      <td>79.4</td>\n",
       "    </tr>\n",
       "    <tr>\n",
       "      <th>556</th>\n",
       "      <td>4</td>\n",
       "      <td>2024</td>\n",
       "      <td>77.2</td>\n",
       "    </tr>\n",
       "    <tr>\n",
       "      <th>557</th>\n",
       "      <td>5</td>\n",
       "      <td>2024</td>\n",
       "      <td>69.1</td>\n",
       "    </tr>\n",
       "  </tbody>\n",
       "</table>\n",
       "<p>557 rows × 3 columns</p>\n",
       "</div>"
      ],
      "text/plain": [
       "    level_0 level_1   csi\n",
       "1         1    1978  83.7\n",
       "2         2    1978  84.3\n",
       "3         3    1978  78.8\n",
       "4         4    1978  81.6\n",
       "5         5    1978  82.9\n",
       "..      ...     ...   ...\n",
       "553       1    2024    79\n",
       "554       2    2024  76.9\n",
       "555       3    2024  79.4\n",
       "556       4    2024  77.2\n",
       "557       5    2024  69.1\n",
       "\n",
       "[557 rows x 3 columns]"
      ]
     },
     "execution_count": 41,
     "metadata": {},
     "output_type": "execute_result"
    }
   ],
   "source": [
    "df_csi"
   ]
  },
  {
   "cell_type": "code",
   "execution_count": 42,
   "id": "1e9aac9d-a4c8-457c-9bb2-8d4065da0988",
   "metadata": {},
   "outputs": [],
   "source": [
    "# Combine the columns into a single datetime column\n",
    "df_csi['Date'] = pd.to_datetime(df_csi['level_1'] + '-' + df_csi['level_0'] + '-01')"
   ]
  },
  {
   "cell_type": "code",
   "execution_count": 43,
   "id": "f67feb58-ca9d-49e0-a21f-1b2939740a64",
   "metadata": {},
   "outputs": [],
   "source": [
    "df_csi.drop(['level_0', 'level_1'], axis=1, inplace=True)"
   ]
  },
  {
   "cell_type": "code",
   "execution_count": 44,
   "id": "21adc2c5-7e29-435f-89f5-7d12f72beb74",
   "metadata": {},
   "outputs": [],
   "source": [
    "df_csi.columns = ['csi', 'DATE']"
   ]
  },
  {
   "cell_type": "code",
   "execution_count": 45,
   "id": "830bde95-5f55-4756-8b50-2c08d7153c6f",
   "metadata": {},
   "outputs": [
    {
     "data": {
      "text/html": [
       "<div>\n",
       "<style scoped>\n",
       "    .dataframe tbody tr th:only-of-type {\n",
       "        vertical-align: middle;\n",
       "    }\n",
       "\n",
       "    .dataframe tbody tr th {\n",
       "        vertical-align: top;\n",
       "    }\n",
       "\n",
       "    .dataframe thead th {\n",
       "        text-align: right;\n",
       "    }\n",
       "</style>\n",
       "<table border=\"1\" class=\"dataframe\">\n",
       "  <thead>\n",
       "    <tr style=\"text-align: right;\">\n",
       "      <th></th>\n",
       "      <th>csi</th>\n",
       "      <th>DATE</th>\n",
       "    </tr>\n",
       "  </thead>\n",
       "  <tbody>\n",
       "    <tr>\n",
       "      <th>1</th>\n",
       "      <td>83.7</td>\n",
       "      <td>1978-01-01</td>\n",
       "    </tr>\n",
       "    <tr>\n",
       "      <th>2</th>\n",
       "      <td>84.3</td>\n",
       "      <td>1978-02-01</td>\n",
       "    </tr>\n",
       "    <tr>\n",
       "      <th>3</th>\n",
       "      <td>78.8</td>\n",
       "      <td>1978-03-01</td>\n",
       "    </tr>\n",
       "    <tr>\n",
       "      <th>4</th>\n",
       "      <td>81.6</td>\n",
       "      <td>1978-04-01</td>\n",
       "    </tr>\n",
       "    <tr>\n",
       "      <th>5</th>\n",
       "      <td>82.9</td>\n",
       "      <td>1978-05-01</td>\n",
       "    </tr>\n",
       "    <tr>\n",
       "      <th>...</th>\n",
       "      <td>...</td>\n",
       "      <td>...</td>\n",
       "    </tr>\n",
       "    <tr>\n",
       "      <th>553</th>\n",
       "      <td>79</td>\n",
       "      <td>2024-01-01</td>\n",
       "    </tr>\n",
       "    <tr>\n",
       "      <th>554</th>\n",
       "      <td>76.9</td>\n",
       "      <td>2024-02-01</td>\n",
       "    </tr>\n",
       "    <tr>\n",
       "      <th>555</th>\n",
       "      <td>79.4</td>\n",
       "      <td>2024-03-01</td>\n",
       "    </tr>\n",
       "    <tr>\n",
       "      <th>556</th>\n",
       "      <td>77.2</td>\n",
       "      <td>2024-04-01</td>\n",
       "    </tr>\n",
       "    <tr>\n",
       "      <th>557</th>\n",
       "      <td>69.1</td>\n",
       "      <td>2024-05-01</td>\n",
       "    </tr>\n",
       "  </tbody>\n",
       "</table>\n",
       "<p>557 rows × 2 columns</p>\n",
       "</div>"
      ],
      "text/plain": [
       "      csi       DATE\n",
       "1    83.7 1978-01-01\n",
       "2    84.3 1978-02-01\n",
       "3    78.8 1978-03-01\n",
       "4    81.6 1978-04-01\n",
       "5    82.9 1978-05-01\n",
       "..    ...        ...\n",
       "553    79 2024-01-01\n",
       "554  76.9 2024-02-01\n",
       "555  79.4 2024-03-01\n",
       "556  77.2 2024-04-01\n",
       "557  69.1 2024-05-01\n",
       "\n",
       "[557 rows x 2 columns]"
      ]
     },
     "execution_count": 45,
     "metadata": {},
     "output_type": "execute_result"
    }
   ],
   "source": [
    "df_csi"
   ]
  },
  {
   "cell_type": "code",
   "execution_count": 46,
   "id": "2cf7aacc-102e-415c-9cc6-902d1e7a9596",
   "metadata": {},
   "outputs": [],
   "source": [
    "df_csi = df_csi[['DATE', 'csi']]"
   ]
  },
  {
   "cell_type": "code",
   "execution_count": 47,
   "id": "8522e5bf-f6df-4da8-a251-8d711852d641",
   "metadata": {},
   "outputs": [],
   "source": [
    "df_csi.set_index(df_csi['DATE'], inplace=True)"
   ]
  },
  {
   "cell_type": "code",
   "execution_count": 48,
   "id": "7db1a7d0-12b3-4975-914d-9ceac617f1cd",
   "metadata": {},
   "outputs": [
    {
     "name": "stderr",
     "output_type": "stream",
     "text": [
      "C:\\Users\\PPC\\AppData\\Local\\Temp\\ipykernel_7644\\865225798.py:1: SettingWithCopyWarning: \n",
      "A value is trying to be set on a copy of a slice from a DataFrame\n",
      "\n",
      "See the caveats in the documentation: https://pandas.pydata.org/pandas-docs/stable/user_guide/indexing.html#returning-a-view-versus-a-copy\n",
      "  df_csi.drop('DATE', axis = 1, inplace=True)\n"
     ]
    }
   ],
   "source": [
    "df_csi.drop('DATE', axis = 1, inplace=True)"
   ]
  },
  {
   "cell_type": "code",
   "execution_count": 49,
   "id": "32dca0b0-99c8-4dd8-8a6b-84153eb9fe72",
   "metadata": {},
   "outputs": [],
   "source": [
    "df = merged1.join(df_csi)"
   ]
  },
  {
   "cell_type": "code",
   "execution_count": 50,
   "id": "8321a61a-7e68-4f31-9a67-38e3a32154c7",
   "metadata": {},
   "outputs": [
    {
     "data": {
      "text/html": [
       "<div>\n",
       "<style scoped>\n",
       "    .dataframe tbody tr th:only-of-type {\n",
       "        vertical-align: middle;\n",
       "    }\n",
       "\n",
       "    .dataframe tbody tr th {\n",
       "        vertical-align: top;\n",
       "    }\n",
       "\n",
       "    .dataframe thead th {\n",
       "        text-align: right;\n",
       "    }\n",
       "</style>\n",
       "<table border=\"1\" class=\"dataframe\">\n",
       "  <thead>\n",
       "    <tr style=\"text-align: right;\">\n",
       "      <th></th>\n",
       "      <th>CIS1020000000000I</th>\n",
       "      <th>IR</th>\n",
       "      <th>POILWTIUSDM</th>\n",
       "      <th>PCE</th>\n",
       "      <th>PPIACO</th>\n",
       "      <th>FRBATLWGTUMHWG83O</th>\n",
       "      <th>CPIAUCSL</th>\n",
       "      <th>csi</th>\n",
       "    </tr>\n",
       "    <tr>\n",
       "      <th>DATE</th>\n",
       "      <th></th>\n",
       "      <th></th>\n",
       "      <th></th>\n",
       "      <th></th>\n",
       "      <th></th>\n",
       "      <th></th>\n",
       "      <th></th>\n",
       "      <th></th>\n",
       "    </tr>\n",
       "  </thead>\n",
       "  <tbody>\n",
       "    <tr>\n",
       "      <th>2001-01-01</th>\n",
       "      <td>87.6</td>\n",
       "      <td>100.5</td>\n",
       "      <td>29.482174</td>\n",
       "      <td>6987.4</td>\n",
       "      <td>140.0</td>\n",
       "      <td>5.3</td>\n",
       "      <td>175.6</td>\n",
       "      <td>94.7</td>\n",
       "    </tr>\n",
       "    <tr>\n",
       "      <th>2001-04-01</th>\n",
       "      <td>88.4</td>\n",
       "      <td>97.8</td>\n",
       "      <td>27.453810</td>\n",
       "      <td>7004.2</td>\n",
       "      <td>136.4</td>\n",
       "      <td>5.4</td>\n",
       "      <td>176.4</td>\n",
       "      <td>88.4</td>\n",
       "    </tr>\n",
       "    <tr>\n",
       "      <th>2001-07-01</th>\n",
       "      <td>89.2</td>\n",
       "      <td>96.1</td>\n",
       "      <td>26.435909</td>\n",
       "      <td>7082.3</td>\n",
       "      <td>133.4</td>\n",
       "      <td>5.1</td>\n",
       "      <td>177.4</td>\n",
       "      <td>92.4</td>\n",
       "    </tr>\n",
       "    <tr>\n",
       "      <th>2001-10-01</th>\n",
       "      <td>90.0</td>\n",
       "      <td>93.7</td>\n",
       "      <td>22.210435</td>\n",
       "      <td>7212.9</td>\n",
       "      <td>130.3</td>\n",
       "      <td>5.1</td>\n",
       "      <td>177.6</td>\n",
       "      <td>82.7</td>\n",
       "    </tr>\n",
       "    <tr>\n",
       "      <th>2002-01-01</th>\n",
       "      <td>90.7</td>\n",
       "      <td>91.6</td>\n",
       "      <td>19.607391</td>\n",
       "      <td>7184.6</td>\n",
       "      <td>128.5</td>\n",
       "      <td>4.8</td>\n",
       "      <td>177.7</td>\n",
       "      <td>93</td>\n",
       "    </tr>\n",
       "  </tbody>\n",
       "</table>\n",
       "</div>"
      ],
      "text/plain": [
       "            CIS1020000000000I     IR  POILWTIUSDM     PCE  PPIACO  \\\n",
       "DATE                                                                \n",
       "2001-01-01               87.6  100.5    29.482174  6987.4   140.0   \n",
       "2001-04-01               88.4   97.8    27.453810  7004.2   136.4   \n",
       "2001-07-01               89.2   96.1    26.435909  7082.3   133.4   \n",
       "2001-10-01               90.0   93.7    22.210435  7212.9   130.3   \n",
       "2002-01-01               90.7   91.6    19.607391  7184.6   128.5   \n",
       "\n",
       "            FRBATLWGTUMHWG83O  CPIAUCSL   csi  \n",
       "DATE                                           \n",
       "2001-01-01                5.3     175.6  94.7  \n",
       "2001-04-01                5.4     176.4  88.4  \n",
       "2001-07-01                5.1     177.4  92.4  \n",
       "2001-10-01                5.1     177.6  82.7  \n",
       "2002-01-01                4.8     177.7    93  "
      ]
     },
     "execution_count": 50,
     "metadata": {},
     "output_type": "execute_result"
    }
   ],
   "source": [
    "df.head()"
   ]
  },
  {
   "cell_type": "code",
   "execution_count": 51,
   "id": "607ec22e-b9ac-4649-a64d-5e0a2e118563",
   "metadata": {},
   "outputs": [
    {
     "data": {
      "text/html": [
       "<div>\n",
       "<style scoped>\n",
       "    .dataframe tbody tr th:only-of-type {\n",
       "        vertical-align: middle;\n",
       "    }\n",
       "\n",
       "    .dataframe tbody tr th {\n",
       "        vertical-align: top;\n",
       "    }\n",
       "\n",
       "    .dataframe thead th {\n",
       "        text-align: right;\n",
       "    }\n",
       "</style>\n",
       "<table border=\"1\" class=\"dataframe\">\n",
       "  <thead>\n",
       "    <tr style=\"text-align: right;\">\n",
       "      <th></th>\n",
       "      <th>CIS1020000000000I</th>\n",
       "      <th>IR</th>\n",
       "      <th>POILWTIUSDM</th>\n",
       "      <th>PCE</th>\n",
       "      <th>PPIACO</th>\n",
       "      <th>FRBATLWGTUMHWG83O</th>\n",
       "      <th>CPIAUCSL</th>\n",
       "      <th>csi</th>\n",
       "    </tr>\n",
       "    <tr>\n",
       "      <th>DATE</th>\n",
       "      <th></th>\n",
       "      <th></th>\n",
       "      <th></th>\n",
       "      <th></th>\n",
       "      <th></th>\n",
       "      <th></th>\n",
       "      <th></th>\n",
       "      <th></th>\n",
       "    </tr>\n",
       "  </thead>\n",
       "  <tbody>\n",
       "    <tr>\n",
       "      <th>2023-01-01</th>\n",
       "      <td>157.1</td>\n",
       "      <td>141.3</td>\n",
       "      <td>78.251364</td>\n",
       "      <td>18229.6</td>\n",
       "      <td>260.227</td>\n",
       "      <td>6.2</td>\n",
       "      <td>300.356</td>\n",
       "      <td>64.9</td>\n",
       "    </tr>\n",
       "    <tr>\n",
       "      <th>2023-04-01</th>\n",
       "      <td>158.7</td>\n",
       "      <td>140.3</td>\n",
       "      <td>79.126500</td>\n",
       "      <td>18363.8</td>\n",
       "      <td>256.908</td>\n",
       "      <td>5.1</td>\n",
       "      <td>303.032</td>\n",
       "      <td>63.7</td>\n",
       "    </tr>\n",
       "    <tr>\n",
       "      <th>2023-07-01</th>\n",
       "      <td>160.4</td>\n",
       "      <td>139.4</td>\n",
       "      <td>75.766667</td>\n",
       "      <td>18595.4</td>\n",
       "      <td>253.835</td>\n",
       "      <td>5.3</td>\n",
       "      <td>304.628</td>\n",
       "      <td>71.5</td>\n",
       "    </tr>\n",
       "    <tr>\n",
       "      <th>2023-10-01</th>\n",
       "      <td>162.1</td>\n",
       "      <td>140.1</td>\n",
       "      <td>85.469091</td>\n",
       "      <td>18826.8</td>\n",
       "      <td>255.192</td>\n",
       "      <td>5.2</td>\n",
       "      <td>307.531</td>\n",
       "      <td>63.8</td>\n",
       "    </tr>\n",
       "    <tr>\n",
       "      <th>2024-01-01</th>\n",
       "      <td>163.9</td>\n",
       "      <td>139.4</td>\n",
       "      <td>74.003043</td>\n",
       "      <td>19028.0</td>\n",
       "      <td>251.306</td>\n",
       "      <td>4.7</td>\n",
       "      <td>309.685</td>\n",
       "      <td>79</td>\n",
       "    </tr>\n",
       "  </tbody>\n",
       "</table>\n",
       "</div>"
      ],
      "text/plain": [
       "            CIS1020000000000I     IR  POILWTIUSDM      PCE   PPIACO  \\\n",
       "DATE                                                                  \n",
       "2023-01-01              157.1  141.3    78.251364  18229.6  260.227   \n",
       "2023-04-01              158.7  140.3    79.126500  18363.8  256.908   \n",
       "2023-07-01              160.4  139.4    75.766667  18595.4  253.835   \n",
       "2023-10-01              162.1  140.1    85.469091  18826.8  255.192   \n",
       "2024-01-01              163.9  139.4    74.003043  19028.0  251.306   \n",
       "\n",
       "            FRBATLWGTUMHWG83O  CPIAUCSL   csi  \n",
       "DATE                                           \n",
       "2023-01-01                6.2   300.356  64.9  \n",
       "2023-04-01                5.1   303.032  63.7  \n",
       "2023-07-01                5.3   304.628  71.5  \n",
       "2023-10-01                5.2   307.531  63.8  \n",
       "2024-01-01                4.7   309.685    79  "
      ]
     },
     "execution_count": 51,
     "metadata": {},
     "output_type": "execute_result"
    }
   ],
   "source": [
    "df.tail()"
   ]
  },
  {
   "cell_type": "code",
   "execution_count": 52,
   "id": "4642cc1b-9d94-48a2-b7c6-23dced1a534c",
   "metadata": {},
   "outputs": [
    {
     "data": {
      "text/plain": [
       "(93, 8)"
      ]
     },
     "execution_count": 52,
     "metadata": {},
     "output_type": "execute_result"
    }
   ],
   "source": [
    "df.shape"
   ]
  },
  {
   "cell_type": "code",
   "execution_count": 53,
   "id": "1a85be2f-8926-491e-953d-5557e89d5183",
   "metadata": {},
   "outputs": [
    {
     "data": {
      "text/plain": [
       "CIS1020000000000I    float64\n",
       "IR                   float64\n",
       "POILWTIUSDM          float64\n",
       "PCE                  float64\n",
       "PPIACO               float64\n",
       "FRBATLWGTUMHWG83O    float64\n",
       "CPIAUCSL             float64\n",
       "csi                   object\n",
       "dtype: object"
      ]
     },
     "execution_count": 53,
     "metadata": {},
     "output_type": "execute_result"
    }
   ],
   "source": [
    "df.dtypes"
   ]
  },
  {
   "cell_type": "code",
   "execution_count": 54,
   "id": "aeec14d9-0a76-4738-8c3f-3ef9fb237704",
   "metadata": {},
   "outputs": [],
   "source": [
    "# convert csi value to float\n",
    "df['csi'] = df['csi'].astype('float64')"
   ]
  },
  {
   "cell_type": "code",
   "execution_count": 55,
   "id": "e0cea8ee-55e2-425c-a789-917f2a39b9db",
   "metadata": {},
   "outputs": [
    {
     "data": {
      "text/html": [
       "<div>\n",
       "<style scoped>\n",
       "    .dataframe tbody tr th:only-of-type {\n",
       "        vertical-align: middle;\n",
       "    }\n",
       "\n",
       "    .dataframe tbody tr th {\n",
       "        vertical-align: top;\n",
       "    }\n",
       "\n",
       "    .dataframe thead th {\n",
       "        text-align: right;\n",
       "    }\n",
       "</style>\n",
       "<table border=\"1\" class=\"dataframe\">\n",
       "  <thead>\n",
       "    <tr style=\"text-align: right;\">\n",
       "      <th></th>\n",
       "      <th>CIS1020000000000I</th>\n",
       "      <th>IR</th>\n",
       "      <th>POILWTIUSDM</th>\n",
       "      <th>PCE</th>\n",
       "      <th>PPIACO</th>\n",
       "      <th>FRBATLWGTUMHWG83O</th>\n",
       "      <th>CPIAUCSL</th>\n",
       "      <th>csi</th>\n",
       "    </tr>\n",
       "    <tr>\n",
       "      <th>DATE</th>\n",
       "      <th></th>\n",
       "      <th></th>\n",
       "      <th></th>\n",
       "      <th></th>\n",
       "      <th></th>\n",
       "      <th></th>\n",
       "      <th></th>\n",
       "      <th></th>\n",
       "    </tr>\n",
       "  </thead>\n",
       "  <tbody>\n",
       "    <tr>\n",
       "      <th>2001-01-01</th>\n",
       "      <td>87.6</td>\n",
       "      <td>100.5</td>\n",
       "      <td>29.482174</td>\n",
       "      <td>6987.4</td>\n",
       "      <td>140.000</td>\n",
       "      <td>5.3</td>\n",
       "      <td>175.600</td>\n",
       "      <td>94.7</td>\n",
       "    </tr>\n",
       "    <tr>\n",
       "      <th>2001-04-01</th>\n",
       "      <td>88.4</td>\n",
       "      <td>97.8</td>\n",
       "      <td>27.453810</td>\n",
       "      <td>7004.2</td>\n",
       "      <td>136.400</td>\n",
       "      <td>5.4</td>\n",
       "      <td>176.400</td>\n",
       "      <td>88.4</td>\n",
       "    </tr>\n",
       "    <tr>\n",
       "      <th>2001-07-01</th>\n",
       "      <td>89.2</td>\n",
       "      <td>96.1</td>\n",
       "      <td>26.435909</td>\n",
       "      <td>7082.3</td>\n",
       "      <td>133.400</td>\n",
       "      <td>5.1</td>\n",
       "      <td>177.400</td>\n",
       "      <td>92.4</td>\n",
       "    </tr>\n",
       "    <tr>\n",
       "      <th>2001-10-01</th>\n",
       "      <td>90.0</td>\n",
       "      <td>93.7</td>\n",
       "      <td>22.210435</td>\n",
       "      <td>7212.9</td>\n",
       "      <td>130.300</td>\n",
       "      <td>5.1</td>\n",
       "      <td>177.600</td>\n",
       "      <td>82.7</td>\n",
       "    </tr>\n",
       "    <tr>\n",
       "      <th>2002-01-01</th>\n",
       "      <td>90.7</td>\n",
       "      <td>91.6</td>\n",
       "      <td>19.607391</td>\n",
       "      <td>7184.6</td>\n",
       "      <td>128.500</td>\n",
       "      <td>4.8</td>\n",
       "      <td>177.700</td>\n",
       "      <td>93.0</td>\n",
       "    </tr>\n",
       "    <tr>\n",
       "      <th>...</th>\n",
       "      <td>...</td>\n",
       "      <td>...</td>\n",
       "      <td>...</td>\n",
       "      <td>...</td>\n",
       "      <td>...</td>\n",
       "      <td>...</td>\n",
       "      <td>...</td>\n",
       "      <td>...</td>\n",
       "    </tr>\n",
       "    <tr>\n",
       "      <th>2023-01-01</th>\n",
       "      <td>157.1</td>\n",
       "      <td>141.3</td>\n",
       "      <td>78.251364</td>\n",
       "      <td>18229.6</td>\n",
       "      <td>260.227</td>\n",
       "      <td>6.2</td>\n",
       "      <td>300.356</td>\n",
       "      <td>64.9</td>\n",
       "    </tr>\n",
       "    <tr>\n",
       "      <th>2023-04-01</th>\n",
       "      <td>158.7</td>\n",
       "      <td>140.3</td>\n",
       "      <td>79.126500</td>\n",
       "      <td>18363.8</td>\n",
       "      <td>256.908</td>\n",
       "      <td>5.1</td>\n",
       "      <td>303.032</td>\n",
       "      <td>63.7</td>\n",
       "    </tr>\n",
       "    <tr>\n",
       "      <th>2023-07-01</th>\n",
       "      <td>160.4</td>\n",
       "      <td>139.4</td>\n",
       "      <td>75.766667</td>\n",
       "      <td>18595.4</td>\n",
       "      <td>253.835</td>\n",
       "      <td>5.3</td>\n",
       "      <td>304.628</td>\n",
       "      <td>71.5</td>\n",
       "    </tr>\n",
       "    <tr>\n",
       "      <th>2023-10-01</th>\n",
       "      <td>162.1</td>\n",
       "      <td>140.1</td>\n",
       "      <td>85.469091</td>\n",
       "      <td>18826.8</td>\n",
       "      <td>255.192</td>\n",
       "      <td>5.2</td>\n",
       "      <td>307.531</td>\n",
       "      <td>63.8</td>\n",
       "    </tr>\n",
       "    <tr>\n",
       "      <th>2024-01-01</th>\n",
       "      <td>163.9</td>\n",
       "      <td>139.4</td>\n",
       "      <td>74.003043</td>\n",
       "      <td>19028.0</td>\n",
       "      <td>251.306</td>\n",
       "      <td>4.7</td>\n",
       "      <td>309.685</td>\n",
       "      <td>79.0</td>\n",
       "    </tr>\n",
       "  </tbody>\n",
       "</table>\n",
       "<p>93 rows × 8 columns</p>\n",
       "</div>"
      ],
      "text/plain": [
       "            CIS1020000000000I     IR  POILWTIUSDM      PCE   PPIACO  \\\n",
       "DATE                                                                  \n",
       "2001-01-01               87.6  100.5    29.482174   6987.4  140.000   \n",
       "2001-04-01               88.4   97.8    27.453810   7004.2  136.400   \n",
       "2001-07-01               89.2   96.1    26.435909   7082.3  133.400   \n",
       "2001-10-01               90.0   93.7    22.210435   7212.9  130.300   \n",
       "2002-01-01               90.7   91.6    19.607391   7184.6  128.500   \n",
       "...                       ...    ...          ...      ...      ...   \n",
       "2023-01-01              157.1  141.3    78.251364  18229.6  260.227   \n",
       "2023-04-01              158.7  140.3    79.126500  18363.8  256.908   \n",
       "2023-07-01              160.4  139.4    75.766667  18595.4  253.835   \n",
       "2023-10-01              162.1  140.1    85.469091  18826.8  255.192   \n",
       "2024-01-01              163.9  139.4    74.003043  19028.0  251.306   \n",
       "\n",
       "            FRBATLWGTUMHWG83O  CPIAUCSL   csi  \n",
       "DATE                                           \n",
       "2001-01-01                5.3   175.600  94.7  \n",
       "2001-04-01                5.4   176.400  88.4  \n",
       "2001-07-01                5.1   177.400  92.4  \n",
       "2001-10-01                5.1   177.600  82.7  \n",
       "2002-01-01                4.8   177.700  93.0  \n",
       "...                       ...       ...   ...  \n",
       "2023-01-01                6.2   300.356  64.9  \n",
       "2023-04-01                5.1   303.032  63.7  \n",
       "2023-07-01                5.3   304.628  71.5  \n",
       "2023-10-01                5.2   307.531  63.8  \n",
       "2024-01-01                4.7   309.685  79.0  \n",
       "\n",
       "[93 rows x 8 columns]"
      ]
     },
     "execution_count": 55,
     "metadata": {},
     "output_type": "execute_result"
    }
   ],
   "source": [
    "df"
   ]
  },
  {
   "cell_type": "markdown",
   "id": "6bbd5e0f-d893-493f-8d78-7ca06daec088",
   "metadata": {},
   "source": [
    "### 2. DATA CLEANING, IMPUTATION AND NORMALIZATION"
   ]
  },
  {
   "cell_type": "code",
   "execution_count": 56,
   "id": "27b1d10e-0b22-4484-b6d6-78192f1e0dfb",
   "metadata": {},
   "outputs": [],
   "source": [
    "df.columns = [\"eci_index\", 'gpd_index', 'oil_price', 'pce_index', 'ppi_index', 'wg_index', 'cpi_index', 'csi_index']"
   ]
  },
  {
   "cell_type": "code",
   "execution_count": 57,
   "id": "39a7f071-9257-43a7-b6e5-6dc9759a4c96",
   "metadata": {},
   "outputs": [
    {
     "data": {
      "text/html": [
       "<div>\n",
       "<style scoped>\n",
       "    .dataframe tbody tr th:only-of-type {\n",
       "        vertical-align: middle;\n",
       "    }\n",
       "\n",
       "    .dataframe tbody tr th {\n",
       "        vertical-align: top;\n",
       "    }\n",
       "\n",
       "    .dataframe thead th {\n",
       "        text-align: right;\n",
       "    }\n",
       "</style>\n",
       "<table border=\"1\" class=\"dataframe\">\n",
       "  <thead>\n",
       "    <tr style=\"text-align: right;\">\n",
       "      <th></th>\n",
       "      <th>eci_index</th>\n",
       "      <th>gpd_index</th>\n",
       "      <th>oil_price</th>\n",
       "      <th>pce_index</th>\n",
       "      <th>ppi_index</th>\n",
       "      <th>wg_index</th>\n",
       "      <th>cpi_index</th>\n",
       "      <th>csi_index</th>\n",
       "    </tr>\n",
       "    <tr>\n",
       "      <th>DATE</th>\n",
       "      <th></th>\n",
       "      <th></th>\n",
       "      <th></th>\n",
       "      <th></th>\n",
       "      <th></th>\n",
       "      <th></th>\n",
       "      <th></th>\n",
       "      <th></th>\n",
       "    </tr>\n",
       "  </thead>\n",
       "  <tbody>\n",
       "    <tr>\n",
       "      <th>2001-01-01</th>\n",
       "      <td>87.6</td>\n",
       "      <td>100.5</td>\n",
       "      <td>29.482174</td>\n",
       "      <td>6987.4</td>\n",
       "      <td>140.000</td>\n",
       "      <td>5.3</td>\n",
       "      <td>175.600</td>\n",
       "      <td>94.7</td>\n",
       "    </tr>\n",
       "    <tr>\n",
       "      <th>2001-04-01</th>\n",
       "      <td>88.4</td>\n",
       "      <td>97.8</td>\n",
       "      <td>27.453810</td>\n",
       "      <td>7004.2</td>\n",
       "      <td>136.400</td>\n",
       "      <td>5.4</td>\n",
       "      <td>176.400</td>\n",
       "      <td>88.4</td>\n",
       "    </tr>\n",
       "    <tr>\n",
       "      <th>2001-07-01</th>\n",
       "      <td>89.2</td>\n",
       "      <td>96.1</td>\n",
       "      <td>26.435909</td>\n",
       "      <td>7082.3</td>\n",
       "      <td>133.400</td>\n",
       "      <td>5.1</td>\n",
       "      <td>177.400</td>\n",
       "      <td>92.4</td>\n",
       "    </tr>\n",
       "    <tr>\n",
       "      <th>2001-10-01</th>\n",
       "      <td>90.0</td>\n",
       "      <td>93.7</td>\n",
       "      <td>22.210435</td>\n",
       "      <td>7212.9</td>\n",
       "      <td>130.300</td>\n",
       "      <td>5.1</td>\n",
       "      <td>177.600</td>\n",
       "      <td>82.7</td>\n",
       "    </tr>\n",
       "    <tr>\n",
       "      <th>2002-01-01</th>\n",
       "      <td>90.7</td>\n",
       "      <td>91.6</td>\n",
       "      <td>19.607391</td>\n",
       "      <td>7184.6</td>\n",
       "      <td>128.500</td>\n",
       "      <td>4.8</td>\n",
       "      <td>177.700</td>\n",
       "      <td>93.0</td>\n",
       "    </tr>\n",
       "    <tr>\n",
       "      <th>...</th>\n",
       "      <td>...</td>\n",
       "      <td>...</td>\n",
       "      <td>...</td>\n",
       "      <td>...</td>\n",
       "      <td>...</td>\n",
       "      <td>...</td>\n",
       "      <td>...</td>\n",
       "      <td>...</td>\n",
       "    </tr>\n",
       "    <tr>\n",
       "      <th>2023-01-01</th>\n",
       "      <td>157.1</td>\n",
       "      <td>141.3</td>\n",
       "      <td>78.251364</td>\n",
       "      <td>18229.6</td>\n",
       "      <td>260.227</td>\n",
       "      <td>6.2</td>\n",
       "      <td>300.356</td>\n",
       "      <td>64.9</td>\n",
       "    </tr>\n",
       "    <tr>\n",
       "      <th>2023-04-01</th>\n",
       "      <td>158.7</td>\n",
       "      <td>140.3</td>\n",
       "      <td>79.126500</td>\n",
       "      <td>18363.8</td>\n",
       "      <td>256.908</td>\n",
       "      <td>5.1</td>\n",
       "      <td>303.032</td>\n",
       "      <td>63.7</td>\n",
       "    </tr>\n",
       "    <tr>\n",
       "      <th>2023-07-01</th>\n",
       "      <td>160.4</td>\n",
       "      <td>139.4</td>\n",
       "      <td>75.766667</td>\n",
       "      <td>18595.4</td>\n",
       "      <td>253.835</td>\n",
       "      <td>5.3</td>\n",
       "      <td>304.628</td>\n",
       "      <td>71.5</td>\n",
       "    </tr>\n",
       "    <tr>\n",
       "      <th>2023-10-01</th>\n",
       "      <td>162.1</td>\n",
       "      <td>140.1</td>\n",
       "      <td>85.469091</td>\n",
       "      <td>18826.8</td>\n",
       "      <td>255.192</td>\n",
       "      <td>5.2</td>\n",
       "      <td>307.531</td>\n",
       "      <td>63.8</td>\n",
       "    </tr>\n",
       "    <tr>\n",
       "      <th>2024-01-01</th>\n",
       "      <td>163.9</td>\n",
       "      <td>139.4</td>\n",
       "      <td>74.003043</td>\n",
       "      <td>19028.0</td>\n",
       "      <td>251.306</td>\n",
       "      <td>4.7</td>\n",
       "      <td>309.685</td>\n",
       "      <td>79.0</td>\n",
       "    </tr>\n",
       "  </tbody>\n",
       "</table>\n",
       "<p>93 rows × 8 columns</p>\n",
       "</div>"
      ],
      "text/plain": [
       "            eci_index  gpd_index  oil_price  pce_index  ppi_index  wg_index  \\\n",
       "DATE                                                                          \n",
       "2001-01-01       87.6      100.5  29.482174     6987.4    140.000       5.3   \n",
       "2001-04-01       88.4       97.8  27.453810     7004.2    136.400       5.4   \n",
       "2001-07-01       89.2       96.1  26.435909     7082.3    133.400       5.1   \n",
       "2001-10-01       90.0       93.7  22.210435     7212.9    130.300       5.1   \n",
       "2002-01-01       90.7       91.6  19.607391     7184.6    128.500       4.8   \n",
       "...               ...        ...        ...        ...        ...       ...   \n",
       "2023-01-01      157.1      141.3  78.251364    18229.6    260.227       6.2   \n",
       "2023-04-01      158.7      140.3  79.126500    18363.8    256.908       5.1   \n",
       "2023-07-01      160.4      139.4  75.766667    18595.4    253.835       5.3   \n",
       "2023-10-01      162.1      140.1  85.469091    18826.8    255.192       5.2   \n",
       "2024-01-01      163.9      139.4  74.003043    19028.0    251.306       4.7   \n",
       "\n",
       "            cpi_index  csi_index  \n",
       "DATE                              \n",
       "2001-01-01    175.600       94.7  \n",
       "2001-04-01    176.400       88.4  \n",
       "2001-07-01    177.400       92.4  \n",
       "2001-10-01    177.600       82.7  \n",
       "2002-01-01    177.700       93.0  \n",
       "...               ...        ...  \n",
       "2023-01-01    300.356       64.9  \n",
       "2023-04-01    303.032       63.7  \n",
       "2023-07-01    304.628       71.5  \n",
       "2023-10-01    307.531       63.8  \n",
       "2024-01-01    309.685       79.0  \n",
       "\n",
       "[93 rows x 8 columns]"
      ]
     },
     "execution_count": 57,
     "metadata": {},
     "output_type": "execute_result"
    }
   ],
   "source": [
    "df"
   ]
  },
  {
   "cell_type": "code",
   "execution_count": 58,
   "id": "083e2b10-f333-49aa-af1f-c5cebc96660a",
   "metadata": {},
   "outputs": [
    {
     "data": {
      "text/plain": [
       "eci_index    0\n",
       "gpd_index    0\n",
       "oil_price    0\n",
       "pce_index    0\n",
       "ppi_index    0\n",
       "wg_index     0\n",
       "cpi_index    0\n",
       "csi_index    0\n",
       "dtype: int64"
      ]
     },
     "execution_count": 58,
     "metadata": {},
     "output_type": "execute_result"
    }
   ],
   "source": [
    "df.isnull().sum() # no null values"
   ]
  },
  {
   "cell_type": "code",
   "execution_count": 59,
   "id": "1510101c-244c-426f-9456-dba8b5d81c91",
   "metadata": {},
   "outputs": [
    {
     "data": {
      "text/html": [
       "<div>\n",
       "<style scoped>\n",
       "    .dataframe tbody tr th:only-of-type {\n",
       "        vertical-align: middle;\n",
       "    }\n",
       "\n",
       "    .dataframe tbody tr th {\n",
       "        vertical-align: top;\n",
       "    }\n",
       "\n",
       "    .dataframe thead th {\n",
       "        text-align: right;\n",
       "    }\n",
       "</style>\n",
       "<table border=\"1\" class=\"dataframe\">\n",
       "  <thead>\n",
       "    <tr style=\"text-align: right;\">\n",
       "      <th></th>\n",
       "      <th>eci_index</th>\n",
       "      <th>gpd_index</th>\n",
       "      <th>oil_price</th>\n",
       "      <th>pce_index</th>\n",
       "      <th>ppi_index</th>\n",
       "      <th>wg_index</th>\n",
       "      <th>cpi_index</th>\n",
       "      <th>csi_index</th>\n",
       "    </tr>\n",
       "    <tr>\n",
       "      <th>DATE</th>\n",
       "      <th></th>\n",
       "      <th></th>\n",
       "      <th></th>\n",
       "      <th></th>\n",
       "      <th></th>\n",
       "      <th></th>\n",
       "      <th></th>\n",
       "      <th></th>\n",
       "    </tr>\n",
       "  </thead>\n",
       "  <tbody>\n",
       "  </tbody>\n",
       "</table>\n",
       "</div>"
      ],
      "text/plain": [
       "Empty DataFrame\n",
       "Columns: [eci_index, gpd_index, oil_price, pce_index, ppi_index, wg_index, cpi_index, csi_index]\n",
       "Index: []"
      ]
     },
     "execution_count": 59,
     "metadata": {},
     "output_type": "execute_result"
    }
   ],
   "source": [
    "df[df.duplicated() == True] # no duplicated"
   ]
  },
  {
   "cell_type": "markdown",
   "id": "b92c5bb0-2f1d-4892-8a79-6688210f0416",
   "metadata": {},
   "source": [
    "### 2.1 STASTISTICAL ANALYSIS (DESCRIPTIVE ANALYSIS)"
   ]
  },
  {
   "cell_type": "code",
   "execution_count": 60,
   "id": "08081394-e04e-4b69-971a-175c031d7e94",
   "metadata": {},
   "outputs": [
    {
     "data": {
      "text/html": [
       "<div>\n",
       "<style scoped>\n",
       "    .dataframe tbody tr th:only-of-type {\n",
       "        vertical-align: middle;\n",
       "    }\n",
       "\n",
       "    .dataframe tbody tr th {\n",
       "        vertical-align: top;\n",
       "    }\n",
       "\n",
       "    .dataframe thead th {\n",
       "        text-align: right;\n",
       "    }\n",
       "</style>\n",
       "<table border=\"1\" class=\"dataframe\">\n",
       "  <thead>\n",
       "    <tr style=\"text-align: right;\">\n",
       "      <th></th>\n",
       "      <th>eci_index</th>\n",
       "      <th>gpd_index</th>\n",
       "      <th>oil_price</th>\n",
       "      <th>pce_index</th>\n",
       "      <th>ppi_index</th>\n",
       "      <th>wg_index</th>\n",
       "      <th>cpi_index</th>\n",
       "      <th>csi_index</th>\n",
       "    </tr>\n",
       "  </thead>\n",
       "  <tbody>\n",
       "    <tr>\n",
       "      <th>count</th>\n",
       "      <td>93.000000</td>\n",
       "      <td>93.000000</td>\n",
       "      <td>93.000000</td>\n",
       "      <td>93.000000</td>\n",
       "      <td>93.000000</td>\n",
       "      <td>93.000000</td>\n",
       "      <td>93.000000</td>\n",
       "      <td>93.000000</td>\n",
       "    </tr>\n",
       "    <tr>\n",
       "      <th>mean</th>\n",
       "      <td>118.801075</td>\n",
       "      <td>123.250538</td>\n",
       "      <td>64.805213</td>\n",
       "      <td>11615.189247</td>\n",
       "      <td>187.983667</td>\n",
       "      <td>3.589247</td>\n",
       "      <td>229.169011</td>\n",
       "      <td>82.445161</td>\n",
       "    </tr>\n",
       "    <tr>\n",
       "      <th>std</th>\n",
       "      <td>19.736600</td>\n",
       "      <td>15.305907</td>\n",
       "      <td>25.607322</td>\n",
       "      <td>3163.797887</td>\n",
       "      <td>34.147023</td>\n",
       "      <td>1.108413</td>\n",
       "      <td>34.408084</td>\n",
       "      <td>12.542714</td>\n",
       "    </tr>\n",
       "    <tr>\n",
       "      <th>min</th>\n",
       "      <td>87.600000</td>\n",
       "      <td>91.600000</td>\n",
       "      <td>16.975000</td>\n",
       "      <td>6987.400000</td>\n",
       "      <td>128.500000</td>\n",
       "      <td>1.300000</td>\n",
       "      <td>175.600000</td>\n",
       "      <td>51.500000</td>\n",
       "    </tr>\n",
       "    <tr>\n",
       "      <th>25%</th>\n",
       "      <td>103.300000</td>\n",
       "      <td>114.500000</td>\n",
       "      <td>46.581905</td>\n",
       "      <td>9393.600000</td>\n",
       "      <td>166.200000</td>\n",
       "      <td>3.000000</td>\n",
       "      <td>202.900000</td>\n",
       "      <td>72.300000</td>\n",
       "    </tr>\n",
       "    <tr>\n",
       "      <th>50%</th>\n",
       "      <td>116.200000</td>\n",
       "      <td>125.100000</td>\n",
       "      <td>63.870455</td>\n",
       "      <td>11018.500000</td>\n",
       "      <td>190.900000</td>\n",
       "      <td>3.600000</td>\n",
       "      <td>229.187000</td>\n",
       "      <td>84.700000</td>\n",
       "    </tr>\n",
       "    <tr>\n",
       "      <th>75%</th>\n",
       "      <td>131.800000</td>\n",
       "      <td>137.700000</td>\n",
       "      <td>84.497727</td>\n",
       "      <td>13703.300000</td>\n",
       "      <td>203.500000</td>\n",
       "      <td>4.100000</td>\n",
       "      <td>250.227000</td>\n",
       "      <td>93.000000</td>\n",
       "    </tr>\n",
       "    <tr>\n",
       "      <th>max</th>\n",
       "      <td>163.900000</td>\n",
       "      <td>147.500000</td>\n",
       "      <td>133.958261</td>\n",
       "      <td>19028.000000</td>\n",
       "      <td>272.274000</td>\n",
       "      <td>6.300000</td>\n",
       "      <td>309.685000</td>\n",
       "      <td>103.800000</td>\n",
       "    </tr>\n",
       "  </tbody>\n",
       "</table>\n",
       "</div>"
      ],
      "text/plain": [
       "        eci_index   gpd_index   oil_price     pce_index   ppi_index  \\\n",
       "count   93.000000   93.000000   93.000000     93.000000   93.000000   \n",
       "mean   118.801075  123.250538   64.805213  11615.189247  187.983667   \n",
       "std     19.736600   15.305907   25.607322   3163.797887   34.147023   \n",
       "min     87.600000   91.600000   16.975000   6987.400000  128.500000   \n",
       "25%    103.300000  114.500000   46.581905   9393.600000  166.200000   \n",
       "50%    116.200000  125.100000   63.870455  11018.500000  190.900000   \n",
       "75%    131.800000  137.700000   84.497727  13703.300000  203.500000   \n",
       "max    163.900000  147.500000  133.958261  19028.000000  272.274000   \n",
       "\n",
       "        wg_index   cpi_index   csi_index  \n",
       "count  93.000000   93.000000   93.000000  \n",
       "mean    3.589247  229.169011   82.445161  \n",
       "std     1.108413   34.408084   12.542714  \n",
       "min     1.300000  175.600000   51.500000  \n",
       "25%     3.000000  202.900000   72.300000  \n",
       "50%     3.600000  229.187000   84.700000  \n",
       "75%     4.100000  250.227000   93.000000  \n",
       "max     6.300000  309.685000  103.800000  "
      ]
     },
     "execution_count": 60,
     "metadata": {},
     "output_type": "execute_result"
    }
   ],
   "source": [
    "df.describe()"
   ]
  },
  {
   "cell_type": "code",
   "execution_count": 61,
   "id": "802dcdb8-e8df-44dd-8b77-c7e7a8130c58",
   "metadata": {},
   "outputs": [],
   "source": [
    "# check skewness and kurtosis\n",
    "from scipy.stats import skew, kurtosis\n",
    "\n",
    "def check_skewedness(df, col):\n",
    "    print(col.upper())\n",
    "    print(skew(df[col]))\n",
    "    if skew(df[col] < 0.5) and skew(df[col]) > -0.5:\n",
    "        print('Normal distribution.')\n",
    "    elif skew(df[col]) > 0.5:\n",
    "        print('Right skewed detected!')\n",
    "    else:\n",
    "        print('Left skewed detected!')\n",
    "    print('*' * 100)\n",
    "\n",
    "def check_kurtosis(df, col):\n",
    "    print(col.upper())\n",
    "    print(kurtosis(df[col]))\n",
    "    if kurtosis(df[col]) == 3:\n",
    "        print('Normal distribution.')\n",
    "    else:\n",
    "        print('Possible outliers detected! XXXXXXXXXXXXXXXXX')"
   ]
  },
  {
   "cell_type": "code",
   "execution_count": 62,
   "id": "8a3eb9ec-c488-462c-a3e0-b6f39e58d5f9",
   "metadata": {},
   "outputs": [
    {
     "name": "stdout",
     "output_type": "stream",
     "text": [
      "ECI_INDEX\n",
      "0.443139656332699\n",
      "Normal distribution.\n",
      "****************************************************************************************************\n",
      "\n",
      "ECI_INDEX\n",
      "-0.606557040782929\n",
      "Possible outliers detected! XXXXXXXXXXXXXXXXX\n",
      "GPD_INDEX\n",
      "-0.449508578073244\n",
      "Normal distribution.\n",
      "****************************************************************************************************\n",
      "\n",
      "GPD_INDEX\n",
      "-0.7419787434391933\n",
      "Possible outliers detected! XXXXXXXXXXXXXXXXX\n",
      "OIL_PRICE\n",
      "0.1584976161507253\n",
      "Normal distribution.\n",
      "****************************************************************************************************\n",
      "\n",
      "OIL_PRICE\n",
      "-0.7081764503611807\n",
      "Possible outliers detected! XXXXXXXXXXXXXXXXX\n",
      "PCE_INDEX\n",
      "0.6071519617828963\n",
      "Normal distribution.\n",
      "****************************************************************************************************\n",
      "\n",
      "PCE_INDEX\n",
      "-0.3708944086933248\n",
      "Possible outliers detected! XXXXXXXXXXXXXXXXX\n",
      "PPI_INDEX\n",
      "0.33438182626834845\n",
      "Normal distribution.\n",
      "****************************************************************************************************\n",
      "\n",
      "PPI_INDEX\n",
      "0.012097242630736194\n",
      "Possible outliers detected! XXXXXXXXXXXXXXXXX\n",
      "WG_INDEX\n",
      "0.4265726172565406\n",
      "Normal distribution.\n",
      "****************************************************************************************************\n",
      "\n",
      "WG_INDEX\n",
      "0.13624096311942324\n",
      "Possible outliers detected! XXXXXXXXXXXXXXXXX\n",
      "CPI_INDEX\n",
      "0.4368769138610951\n",
      "Normal distribution.\n",
      "****************************************************************************************************\n",
      "\n",
      "CPI_INDEX\n",
      "-0.33642612659838544\n",
      "Possible outliers detected! XXXXXXXXXXXXXXXXX\n",
      "CSI_INDEX\n",
      "-0.39211218347775073\n",
      "Normal distribution.\n",
      "****************************************************************************************************\n",
      "\n",
      "CSI_INDEX\n",
      "-0.9316382968599131\n",
      "Possible outliers detected! XXXXXXXXXXXXXXXXX\n"
     ]
    }
   ],
   "source": [
    "# check all the skewedness value and kurtosis values:\n",
    "for column in df.columns:\n",
    "    check_skewedness(df, column)\n",
    "    print()\n",
    "    check_kurtosis(df, column)"
   ]
  },
  {
   "cell_type": "raw",
   "id": "92ce6419-19dd-4ff5-a0e5-7c4c5f621777",
   "metadata": {},
   "source": [
    ">> from the analysis of kurtosis and skewedness, we can see that only CSI potentially contains outliers. we need to further analyze all of the columns using visualization and outliers check."
   ]
  },
  {
   "cell_type": "code",
   "execution_count": 63,
   "id": "daa42623-68b3-4275-8669-5a443afe7b10",
   "metadata": {},
   "outputs": [
    {
     "data": {
      "image/png": "[encoded data removed]",
      "text/plain": [
       "<Figure size 1700x500 with 1 Axes>"
      ]
     },
     "metadata": {},
     "output_type": "display_data"
    },
    {
     "data": {
      "image/png": "[encoded data removed]",
      "text/plain": [
       "<Figure size 1700x500 with 1 Axes>"
      ]
     },
     "metadata": {},
     "output_type": "display_data"
    },
    {
     "data": {
      "image/png": "[encoded data removed]",
      "text/plain": [
       "<Figure size 1700x500 with 1 Axes>"
      ]
     },
     "metadata": {},
     "output_type": "display_data"
    },
    {
     "data": {
      "image/png": "[encoded data removed]",
      "text/plain": [
       "<Figure size 1700x500 with 1 Axes>"
      ]
     },
     "metadata": {},
     "output_type": "display_data"
    },
    {
     "data": {
      "image/png": "[encoded data removed]",
      "text/plain": [
       "<Figure size 1700x500 with 1 Axes>"
      ]
     },
     "metadata": {},
     "output_type": "display_data"
    },
    {
     "data": {
      "image/png": "[encoded data removed]",
      "text/plain": [
       "<Figure size 1700x500 with 1 Axes>"
      ]
     },
     "metadata": {},
     "output_type": "display_data"
    },
    {
     "data": {
      "image/png": "[encoded data removed]",
      "text/plain": [
       "<Figure size 1700x500 with 1 Axes>"
      ]
     },
     "metadata": {},
     "output_type": "display_data"
    },
    {
     "data": {
      "image/png": "[encoded data removed]",
      "text/plain": [
       "<Figure size 1700x500 with 1 Axes>"
      ]
     },
     "metadata": {},
     "output_type": "display_data"
    }
   ],
   "source": [
    "# plot box plot\n",
    "for column in df.columns:\n",
    "    plt.figure(figsize=(17, 5))\n",
    "    plt.boxplot(df[column])\n",
    "    plt.title(column.upper())\n",
    "    plt.show()"
   ]
  },
  {
   "cell_type": "raw",
   "id": "596f59e9-9842-4373-b43f-0f25557e9ee6",
   "metadata": {},
   "source": [
    ">> from boxplot, we can see that PPI and CPI columns contain outliers: 4 and 6 respectively. We need to do something..."
   ]
  },
  {
   "cell_type": "code",
   "execution_count": 64,
   "id": "eee2a26c-f2e1-45c8-9ab0-2d75a30243db",
   "metadata": {},
   "outputs": [],
   "source": [
    "def check_outliers(df, col):\n",
    "    Q1 = df[col].quantile(0.25)\n",
    "    Q3 = df[col].quantile(0.75)\n",
    "    IQR = Q3 - Q1\n",
    "    return df[(df[col] > Q3 + 1.5 * IQR) | (df[col] < Q1 - 1.5 * (IQR))]"
   ]
  },
  {
   "cell_type": "code",
   "execution_count": 65,
   "id": "02ba9af8-44b3-48c6-90b1-c3931f8a29aa",
   "metadata": {},
   "outputs": [
    {
     "name": "stdout",
     "output_type": "stream",
     "text": [
      "ECI_INDEX\n",
      "Empty DataFrame\n",
      "Columns: [eci_index, gpd_index, oil_price, pce_index, ppi_index, wg_index, cpi_index, csi_index]\n",
      "Index: []\n",
      "0\n",
      "****************************************************************************************************\n",
      "\n",
      "GPD_INDEX\n",
      "Empty DataFrame\n",
      "Columns: [eci_index, gpd_index, oil_price, pce_index, ppi_index, wg_index, cpi_index, csi_index]\n",
      "Index: []\n",
      "0\n",
      "****************************************************************************************************\n",
      "\n",
      "OIL_PRICE\n",
      "Empty DataFrame\n",
      "Columns: [eci_index, gpd_index, oil_price, pce_index, ppi_index, wg_index, cpi_index, csi_index]\n",
      "Index: []\n",
      "0\n",
      "****************************************************************************************************\n",
      "\n",
      "PCE_INDEX\n",
      "Empty DataFrame\n",
      "Columns: [eci_index, gpd_index, oil_price, pce_index, ppi_index, wg_index, cpi_index, csi_index]\n",
      "Index: []\n",
      "0\n",
      "****************************************************************************************************\n",
      "\n",
      "PPI_INDEX\n",
      "            eci_index  gpd_index   oil_price  pce_index  ppi_index  wg_index  \\\n",
      "DATE                                                                           \n",
      "2022-04-01      151.7      147.5  101.985238    17310.5    265.310       6.3   \n",
      "2022-07-01      153.5      146.4  101.918095    17556.4    272.274       6.3   \n",
      "2022-10-01      155.3      142.7   87.286667    17915.1    265.061       6.3   \n",
      "2023-01-01      157.1      141.3   78.251364    18229.6    260.227       6.2   \n",
      "\n",
      "            cpi_index  csi_index  \n",
      "DATE                              \n",
      "2022-04-01    288.764       65.2  \n",
      "2022-07-01    294.977       51.5  \n",
      "2022-10-01    297.863       59.9  \n",
      "2023-01-01    300.356       64.9  \n",
      "4\n",
      "****************************************************************************************************\n",
      "\n",
      "WG_INDEX\n",
      "            eci_index  gpd_index   oil_price  pce_index  ppi_index  wg_index  \\\n",
      "DATE                                                                           \n",
      "2010-10-01      113.0      127.1   81.902381    10386.4    186.600       1.3   \n",
      "2022-01-01      149.6      140.1   83.277619    16888.6    246.453       6.1   \n",
      "2022-04-01      151.7      147.5  101.985238    17310.5    265.310       6.3   \n",
      "2022-07-01      153.5      146.4  101.918095    17556.4    272.274       6.3   \n",
      "2022-10-01      155.3      142.7   87.286667    17915.1    265.061       6.3   \n",
      "2023-01-01      157.1      141.3   78.251364    18229.6    260.227       6.2   \n",
      "\n",
      "            cpi_index  csi_index  \n",
      "DATE                              \n",
      "2010-10-01    219.035       67.7  \n",
      "2022-01-01    282.390       67.2  \n",
      "2022-04-01    288.764       65.2  \n",
      "2022-07-01    294.977       51.5  \n",
      "2022-10-01    297.863       59.9  \n",
      "2023-01-01    300.356       64.9  \n",
      "6\n",
      "****************************************************************************************************\n",
      "\n",
      "CPI_INDEX\n",
      "Empty DataFrame\n",
      "Columns: [eci_index, gpd_index, oil_price, pce_index, ppi_index, wg_index, cpi_index, csi_index]\n",
      "Index: []\n",
      "0\n",
      "****************************************************************************************************\n",
      "\n",
      "CSI_INDEX\n",
      "Empty DataFrame\n",
      "Columns: [eci_index, gpd_index, oil_price, pce_index, ppi_index, wg_index, cpi_index, csi_index]\n",
      "Index: []\n",
      "0\n",
      "****************************************************************************************************\n",
      "\n"
     ]
    }
   ],
   "source": [
    "for column in df.columns:\n",
    "    print(column.upper())\n",
    "    print(check_outliers(df, column))\n",
    "    print(len(check_outliers(df, column)))\n",
    "    print('*' * 100)\n",
    "    print()"
   ]
  },
  {
   "cell_type": "code",
   "execution_count": 66,
   "id": "9338d01a-faa1-49e9-aae6-ec86aac9d07c",
   "metadata": {},
   "outputs": [
    {
     "data": {
      "text/plain": [
       "DATE\n",
       "2010-10-01    1.3\n",
       "2022-01-01    6.1\n",
       "2022-04-01    6.3\n",
       "2022-07-01    6.3\n",
       "2022-10-01    6.3\n",
       "2023-01-01    6.2\n",
       "Name: wg_index, dtype: float64"
      ]
     },
     "execution_count": 66,
     "metadata": {},
     "output_type": "execute_result"
    }
   ],
   "source": [
    "check_outliers(df, 'wg_index')['wg_index']"
   ]
  },
  {
   "cell_type": "raw",
   "id": "02268daa-4fb5-4bcd-a8ab-0b639b8ce395",
   "metadata": {},
   "source": [
    ">> the 2010 one indicates a period of recovery after the 2008's Great Recession that only ends in 2009..."
   ]
  },
  {
   "cell_type": "code",
   "execution_count": 67,
   "id": "c7227647-5c20-4a4e-bcb3-40039fbce30f",
   "metadata": {},
   "outputs": [
    {
     "data": {
      "text/plain": [
       "DATE\n",
       "2022-04-01    265.310\n",
       "2022-07-01    272.274\n",
       "2022-10-01    265.061\n",
       "2023-01-01    260.227\n",
       "Name: ppi_index, dtype: float64"
      ]
     },
     "execution_count": 67,
     "metadata": {},
     "output_type": "execute_result"
    }
   ],
   "source": [
    "check_outliers(df, 'ppi_index')['ppi_index']"
   ]
  },
  {
   "cell_type": "raw",
   "id": "489d9467-b00e-4a4c-91d9-08b71ac63492",
   "metadata": {},
   "source": [
    ">> hmm.. after checking the timestamp we see that all the outliers occurs after the covid pandemic it is reasonble that the outliers are caused by the transformative recovery period, so we will not drop them in both columns, but we will use agg method of median to them since median is resistent to outliers"
   ]
  },
  {
   "cell_type": "markdown",
   "id": "c826314b-c32b-4484-a753-f6bfb3d0d7ec",
   "metadata": {},
   "source": [
    "### 3. DIVIDE THE DF INTO ONE QUATERLY DATAFRAME AND ONE YEARLY DATAFRAME AND NORMALIZATION"
   ]
  },
  {
   "cell_type": "code",
   "execution_count": 68,
   "id": "00a64183-cb06-4580-a5bb-f02a52b9c273",
   "metadata": {},
   "outputs": [
    {
     "data": {
      "text/html": [
       "<div>\n",
       "<style scoped>\n",
       "    .dataframe tbody tr th:only-of-type {\n",
       "        vertical-align: middle;\n",
       "    }\n",
       "\n",
       "    .dataframe tbody tr th {\n",
       "        vertical-align: top;\n",
       "    }\n",
       "\n",
       "    .dataframe thead th {\n",
       "        text-align: right;\n",
       "    }\n",
       "</style>\n",
       "<table border=\"1\" class=\"dataframe\">\n",
       "  <thead>\n",
       "    <tr style=\"text-align: right;\">\n",
       "      <th></th>\n",
       "      <th>eci_index</th>\n",
       "      <th>gpd_index</th>\n",
       "      <th>oil_price</th>\n",
       "      <th>pce_index</th>\n",
       "      <th>ppi_index</th>\n",
       "      <th>wg_index</th>\n",
       "      <th>cpi_index</th>\n",
       "      <th>csi_index</th>\n",
       "    </tr>\n",
       "    <tr>\n",
       "      <th>DATE</th>\n",
       "      <th></th>\n",
       "      <th></th>\n",
       "      <th></th>\n",
       "      <th></th>\n",
       "      <th></th>\n",
       "      <th></th>\n",
       "      <th></th>\n",
       "      <th></th>\n",
       "    </tr>\n",
       "  </thead>\n",
       "  <tbody>\n",
       "    <tr>\n",
       "      <th>2001-01-01</th>\n",
       "      <td>87.6</td>\n",
       "      <td>100.5</td>\n",
       "      <td>29.482174</td>\n",
       "      <td>6987.4</td>\n",
       "      <td>140.000</td>\n",
       "      <td>5.3</td>\n",
       "      <td>175.600</td>\n",
       "      <td>94.7</td>\n",
       "    </tr>\n",
       "    <tr>\n",
       "      <th>2001-04-01</th>\n",
       "      <td>88.4</td>\n",
       "      <td>97.8</td>\n",
       "      <td>27.453810</td>\n",
       "      <td>7004.2</td>\n",
       "      <td>136.400</td>\n",
       "      <td>5.4</td>\n",
       "      <td>176.400</td>\n",
       "      <td>88.4</td>\n",
       "    </tr>\n",
       "    <tr>\n",
       "      <th>2001-07-01</th>\n",
       "      <td>89.2</td>\n",
       "      <td>96.1</td>\n",
       "      <td>26.435909</td>\n",
       "      <td>7082.3</td>\n",
       "      <td>133.400</td>\n",
       "      <td>5.1</td>\n",
       "      <td>177.400</td>\n",
       "      <td>92.4</td>\n",
       "    </tr>\n",
       "    <tr>\n",
       "      <th>2001-10-01</th>\n",
       "      <td>90.0</td>\n",
       "      <td>93.7</td>\n",
       "      <td>22.210435</td>\n",
       "      <td>7212.9</td>\n",
       "      <td>130.300</td>\n",
       "      <td>5.1</td>\n",
       "      <td>177.600</td>\n",
       "      <td>82.7</td>\n",
       "    </tr>\n",
       "    <tr>\n",
       "      <th>2002-01-01</th>\n",
       "      <td>90.7</td>\n",
       "      <td>91.6</td>\n",
       "      <td>19.607391</td>\n",
       "      <td>7184.6</td>\n",
       "      <td>128.500</td>\n",
       "      <td>4.8</td>\n",
       "      <td>177.700</td>\n",
       "      <td>93.0</td>\n",
       "    </tr>\n",
       "    <tr>\n",
       "      <th>...</th>\n",
       "      <td>...</td>\n",
       "      <td>...</td>\n",
       "      <td>...</td>\n",
       "      <td>...</td>\n",
       "      <td>...</td>\n",
       "      <td>...</td>\n",
       "      <td>...</td>\n",
       "      <td>...</td>\n",
       "    </tr>\n",
       "    <tr>\n",
       "      <th>2023-01-01</th>\n",
       "      <td>157.1</td>\n",
       "      <td>141.3</td>\n",
       "      <td>78.251364</td>\n",
       "      <td>18229.6</td>\n",
       "      <td>260.227</td>\n",
       "      <td>6.2</td>\n",
       "      <td>300.356</td>\n",
       "      <td>64.9</td>\n",
       "    </tr>\n",
       "    <tr>\n",
       "      <th>2023-04-01</th>\n",
       "      <td>158.7</td>\n",
       "      <td>140.3</td>\n",
       "      <td>79.126500</td>\n",
       "      <td>18363.8</td>\n",
       "      <td>256.908</td>\n",
       "      <td>5.1</td>\n",
       "      <td>303.032</td>\n",
       "      <td>63.7</td>\n",
       "    </tr>\n",
       "    <tr>\n",
       "      <th>2023-07-01</th>\n",
       "      <td>160.4</td>\n",
       "      <td>139.4</td>\n",
       "      <td>75.766667</td>\n",
       "      <td>18595.4</td>\n",
       "      <td>253.835</td>\n",
       "      <td>5.3</td>\n",
       "      <td>304.628</td>\n",
       "      <td>71.5</td>\n",
       "    </tr>\n",
       "    <tr>\n",
       "      <th>2023-10-01</th>\n",
       "      <td>162.1</td>\n",
       "      <td>140.1</td>\n",
       "      <td>85.469091</td>\n",
       "      <td>18826.8</td>\n",
       "      <td>255.192</td>\n",
       "      <td>5.2</td>\n",
       "      <td>307.531</td>\n",
       "      <td>63.8</td>\n",
       "    </tr>\n",
       "    <tr>\n",
       "      <th>2024-01-01</th>\n",
       "      <td>163.9</td>\n",
       "      <td>139.4</td>\n",
       "      <td>74.003043</td>\n",
       "      <td>19028.0</td>\n",
       "      <td>251.306</td>\n",
       "      <td>4.7</td>\n",
       "      <td>309.685</td>\n",
       "      <td>79.0</td>\n",
       "    </tr>\n",
       "  </tbody>\n",
       "</table>\n",
       "<p>93 rows × 8 columns</p>\n",
       "</div>"
      ],
      "text/plain": [
       "            eci_index  gpd_index  oil_price  pce_index  ppi_index  wg_index  \\\n",
       "DATE                                                                          \n",
       "2001-01-01       87.6      100.5  29.482174     6987.4    140.000       5.3   \n",
       "2001-04-01       88.4       97.8  27.453810     7004.2    136.400       5.4   \n",
       "2001-07-01       89.2       96.1  26.435909     7082.3    133.400       5.1   \n",
       "2001-10-01       90.0       93.7  22.210435     7212.9    130.300       5.1   \n",
       "2002-01-01       90.7       91.6  19.607391     7184.6    128.500       4.8   \n",
       "...               ...        ...        ...        ...        ...       ...   \n",
       "2023-01-01      157.1      141.3  78.251364    18229.6    260.227       6.2   \n",
       "2023-04-01      158.7      140.3  79.126500    18363.8    256.908       5.1   \n",
       "2023-07-01      160.4      139.4  75.766667    18595.4    253.835       5.3   \n",
       "2023-10-01      162.1      140.1  85.469091    18826.8    255.192       5.2   \n",
       "2024-01-01      163.9      139.4  74.003043    19028.0    251.306       4.7   \n",
       "\n",
       "            cpi_index  csi_index  \n",
       "DATE                              \n",
       "2001-01-01    175.600       94.7  \n",
       "2001-04-01    176.400       88.4  \n",
       "2001-07-01    177.400       92.4  \n",
       "2001-10-01    177.600       82.7  \n",
       "2002-01-01    177.700       93.0  \n",
       "...               ...        ...  \n",
       "2023-01-01    300.356       64.9  \n",
       "2023-04-01    303.032       63.7  \n",
       "2023-07-01    304.628       71.5  \n",
       "2023-10-01    307.531       63.8  \n",
       "2024-01-01    309.685       79.0  \n",
       "\n",
       "[93 rows x 8 columns]"
      ]
     },
     "execution_count": 68,
     "metadata": {},
     "output_type": "execute_result"
    }
   ],
   "source": [
    "df"
   ]
  },
  {
   "cell_type": "raw",
   "id": "4779e0d5-7620-40f8-9c98-c25a804cf4df",
   "metadata": {},
   "source": [
    ">> lets do some normalization in order to extract insights from it"
   ]
  },
  {
   "cell_type": "code",
   "execution_count": 69,
   "id": "b1b50eb3-21f6-47a3-9b3b-b135fe6688f9",
   "metadata": {},
   "outputs": [
    {
     "ename": "NameError",
     "evalue": "name 'cpi_and_csi_yearly' is not defined",
     "output_type": "error",
     "traceback": [
      "\u001b[1;31m---------------------------------------------------------------------------\u001b[0m",
      "\u001b[1;31mNameError\u001b[0m                                 Traceback (most recent call last)",
      "Cell \u001b[1;32mIn[69], line 1\u001b[0m\n\u001b[1;32m----> 1\u001b[0m sns\u001b[38;5;241m.\u001b[39mscatterplot(data\u001b[38;5;241m=\u001b[39mcpi_and_csi_yearly, x\u001b[38;5;241m=\u001b[39m\u001b[38;5;124m'\u001b[39m\u001b[38;5;124mcsi_index\u001b[39m\u001b[38;5;124m'\u001b[39m, y\u001b[38;5;241m=\u001b[39m\u001b[38;5;124m'\u001b[39m\u001b[38;5;124mcpi_index\u001b[39m\u001b[38;5;124m'\u001b[39m)\n\u001b[0;32m      2\u001b[0m plt\u001b[38;5;241m.\u001b[39mtitle(\u001b[38;5;124m'\u001b[39m\u001b[38;5;124mCSI vs CPI Relationship\u001b[39m\u001b[38;5;124m'\u001b[39m)\n\u001b[0;32m      3\u001b[0m plt\u001b[38;5;241m.\u001b[39mxlabel(\u001b[38;5;124m'\u001b[39m\u001b[38;5;124mCPI Index\u001b[39m\u001b[38;5;124m'\u001b[39m)\n",
      "\u001b[1;31mNameError\u001b[0m: name 'cpi_and_csi_yearly' is not defined"
     ]
    }
   ],
   "source": [
    "sns.scatterplot(data=cpi_and_csi_yearly, x='csi_index', y='cpi_index')\n",
    "plt.title('CSI vs CPI Relationship')\n",
    "plt.xlabel('CPI Index')\n",
    "plt.ylabel('CSI Index')\n",
    "plt.show()"
   ]
  },
  {
   "cell_type": "raw",
   "id": "aee8e3be-2d34-4c69-af64-b969725240c2",
   "metadata": {},
   "source": [
    ">> we seem to not be able to extract any insights from it whatsoever. lets calculate the inflation rate based on cpi index, howver we can see the inverse relationship between CPI index and CSI index, as CPI index increases, CSI index decreases"
   ]
  },
  {
   "cell_type": "code",
   "execution_count": null,
   "id": "28eedc48-7fa1-4261-9de1-af401d4ecef4",
   "metadata": {},
   "outputs": [
    {
     "ename": "",
     "evalue": "",
     "output_type": "error",
     "traceback": [
      "\u001b[1;31mFailed to start the Kernel. \n",
      "\u001b[1;31mUnable to start Kernel 'base (Python 3.11.7)' due to a timeout waiting for the ports to get used. \n",
      "\u001b[1;31mView Jupyter <a href='command:jupyter.viewOutput'>log</a> for further details."
     ]
    }
   ],
   "source": [
    "cpi_and_csi = df[['cpi_index', 'csi_index']]"
   ]
  },
  {
   "cell_type": "code",
   "execution_count": null,
   "id": "2405ecf7-281d-470f-8227-e7ff52b9bf5a",
   "metadata": {},
   "outputs": [
    {
     "ename": "",
     "evalue": "",
     "output_type": "error",
     "traceback": [
      "\u001b[1;31mFailed to start the Kernel. \n",
      "\u001b[1;31mUnable to start Kernel 'base (Python 3.11.7)' due to a timeout waiting for the ports to get used. \n",
      "\u001b[1;31mView Jupyter <a href='command:jupyter.viewOutput'>log</a> for further details."
     ]
    }
   ],
   "source": [
    "#resample to yearly\n",
    "cpi_and_csi_yearly = cpi_and_csi.resample('Y').mean()"
   ]
  },
  {
   "cell_type": "code",
   "execution_count": null,
   "id": "8c69d172-3b17-4671-8cfd-dd89c0c08f2f",
   "metadata": {},
   "outputs": [
    {
     "ename": "",
     "evalue": "",
     "output_type": "error",
     "traceback": [
      "\u001b[1;31mFailed to start the Kernel. \n",
      "\u001b[1;31mUnable to start Kernel 'base (Python 3.11.7)' due to a timeout waiting for the ports to get used. \n",
      "\u001b[1;31mView Jupyter <a href='command:jupyter.viewOutput'>log</a> for further details."
     ]
    }
   ],
   "source": [
    "cpi_and_csi_yearly"
   ]
  },
  {
   "cell_type": "code",
   "execution_count": null,
   "id": "10a684fe-f26b-4c40-b3ee-2ac2385fc430",
   "metadata": {},
   "outputs": [
    {
     "ename": "",
     "evalue": "",
     "output_type": "error",
     "traceback": [
      "\u001b[1;31mFailed to start the Kernel. \n",
      "\u001b[1;31mUnable to start Kernel 'base (Python 3.11.7)' due to a timeout waiting for the ports to get used. \n",
      "\u001b[1;31mView Jupyter <a href='command:jupyter.viewOutput'>log</a> for further details."
     ]
    }
   ],
   "source": [
    "cpi_and_csi_yearly['shifted'] = cpi_and_csi_yearly['cpi_index'].shift(1)"
   ]
  },
  {
   "cell_type": "code",
   "execution_count": null,
   "id": "f53a33e1-5050-4a3b-9caa-57ad8d939a02",
   "metadata": {},
   "outputs": [
    {
     "ename": "",
     "evalue": "",
     "output_type": "error",
     "traceback": [
      "\u001b[1;31mFailed to start the Kernel. \n",
      "\u001b[1;31mUnable to start Kernel 'base (Python 3.11.7)' due to a timeout waiting for the ports to get used. \n",
      "\u001b[1;31mView Jupyter <a href='command:jupyter.viewOutput'>log</a> for further details."
     ]
    }
   ],
   "source": [
    "cpi_and_csi_yearly['inflation'] = (cpi_and_csi_yearly['cpi_index'] - cpi_and_csi_yearly['shifted']) / cpi_and_csi_yearly['shifted'] * 100"
   ]
  },
  {
   "cell_type": "code",
   "execution_count": null,
   "id": "466f8164-ddbd-4c28-8981-aa81661fa379",
   "metadata": {},
   "outputs": [
    {
     "ename": "",
     "evalue": "",
     "output_type": "error",
     "traceback": [
      "\u001b[1;31mFailed to start the Kernel. \n",
      "\u001b[1;31mUnable to start Kernel 'base (Python 3.11.7)' due to a timeout waiting for the ports to get used. \n",
      "\u001b[1;31mView Jupyter <a href='command:jupyter.viewOutput'>log</a> for further details."
     ]
    }
   ],
   "source": [
    "cpi_and_csi_yearly.dropna(inplace=True)"
   ]
  },
  {
   "cell_type": "code",
   "execution_count": null,
   "id": "fb7d6edc-6408-4ae7-80e5-ac13ac45208d",
   "metadata": {},
   "outputs": [
    {
     "ename": "",
     "evalue": "",
     "output_type": "error",
     "traceback": [
      "\u001b[1;31mFailed to start the Kernel. \n",
      "\u001b[1;31mUnable to start Kernel 'base (Python 3.11.7)' due to a timeout waiting for the ports to get used. \n",
      "\u001b[1;31mView Jupyter <a href='command:jupyter.viewOutput'>log</a> for further details."
     ]
    }
   ],
   "source": [
    "cpi_and_csi_yearly"
   ]
  },
  {
   "cell_type": "code",
   "execution_count": null,
   "id": "5e2e6f97-0613-4b2b-8424-98ea443c88c8",
   "metadata": {},
   "outputs": [
    {
     "ename": "",
     "evalue": "",
     "output_type": "error",
     "traceback": [
      "\u001b[1;31mFailed to start the Kernel. \n",
      "\u001b[1;31mUnable to start Kernel 'base (Python 3.11.7)' due to a timeout waiting for the ports to get used. \n",
      "\u001b[1;31mView Jupyter <a href='command:jupyter.viewOutput'>log</a> for further details."
     ]
    }
   ],
   "source": [
    "cpi_and_csi_yearly[['csi_index', 'inflation']].corr()"
   ]
  },
  {
   "cell_type": "raw",
   "id": "73bb40e6-6e48-4c01-85d2-9fe63e49e3a2",
   "metadata": {},
   "source": [
    ">> hmm.. now we can see that CSI index yearly is weakly correlated with Inflation rate.. after 2000\n",
    ">> lets further check it using spearman method and p-value"
   ]
  },
  {
   "cell_type": "code",
   "execution_count": null,
   "id": "ae49a170-39d4-410c-9cb9-97b953f28b11",
   "metadata": {},
   "outputs": [
    {
     "ename": "",
     "evalue": "",
     "output_type": "error",
     "traceback": [
      "\u001b[1;31mFailed to start the Kernel. \n",
      "\u001b[1;31mUnable to start Kernel 'base (Python 3.11.7)' due to a timeout waiting for the ports to get used. \n",
      "\u001b[1;31mView Jupyter <a href='command:jupyter.viewOutput'>log</a> for further details."
     ]
    }
   ],
   "source": [
    "from scipy.stats import pearsonr, spearmanr"
   ]
  },
  {
   "cell_type": "code",
   "execution_count": null,
   "id": "8639c5c6-11a4-4bd4-8e68-7e3026a083c0",
   "metadata": {},
   "outputs": [
    {
     "ename": "",
     "evalue": "",
     "output_type": "error",
     "traceback": [
      "\u001b[1;31mFailed to start the Kernel. \n",
      "\u001b[1;31mUnable to start Kernel 'base (Python 3.11.7)' due to a timeout waiting for the ports to get used. \n",
      "\u001b[1;31mView Jupyter <a href='command:jupyter.viewOutput'>log</a> for further details."
     ]
    }
   ],
   "source": [
    "print(pearsonr(cpi_and_csi_yearly['cpi_index'], cpi_and_csi_yearly['csi_index']))"
   ]
  },
  {
   "cell_type": "code",
   "execution_count": null,
   "id": "b58bfcc6-cf33-442f-a993-2aadb203676b",
   "metadata": {},
   "outputs": [
    {
     "ename": "",
     "evalue": "",
     "output_type": "error",
     "traceback": [
      "\u001b[1;31mFailed to start the Kernel. \n",
      "\u001b[1;31mUnable to start Kernel 'base (Python 3.11.7)' due to a timeout waiting for the ports to get used. \n",
      "\u001b[1;31mView Jupyter <a href='command:jupyter.viewOutput'>log</a> for further details."
     ]
    }
   ],
   "source": [
    "from sklearn.preprocessing import MinMaxScaler\n",
    "mm = MinMaxScaler()"
   ]
  },
  {
   "cell_type": "code",
   "execution_count": null,
   "id": "fa370a65-6894-43eb-b24a-75fda4ef6f6d",
   "metadata": {},
   "outputs": [
    {
     "ename": "",
     "evalue": "",
     "output_type": "error",
     "traceback": [
      "\u001b[1;31mFailed to start the Kernel. \n",
      "\u001b[1;31mUnable to start Kernel 'base (Python 3.11.7)' due to a timeout waiting for the ports to get used. \n",
      "\u001b[1;31mView Jupyter <a href='command:jupyter.viewOutput'>log</a> for further details."
     ]
    }
   ],
   "source": [
    "cpi_and_csi_yearly['csi_index_normalized'] = mm.fit_transform(cpi_and_csi_yearly[['csi_index']])"
   ]
  },
  {
   "cell_type": "code",
   "execution_count": null,
   "id": "e85443a3-90f7-406c-a9e4-bdd7e1761a90",
   "metadata": {},
   "outputs": [
    {
     "ename": "",
     "evalue": "",
     "output_type": "error",
     "traceback": [
      "\u001b[1;31mFailed to start the Kernel. \n",
      "\u001b[1;31mUnable to start Kernel 'base (Python 3.11.7)' due to a timeout waiting for the ports to get used. \n",
      "\u001b[1;31mView Jupyter <a href='command:jupyter.viewOutput'>log</a> for further details."
     ]
    }
   ],
   "source": [
    "cpi_and_csi_yearly[['csi_index_normalized', 'inflation']].corr()"
   ]
  },
  {
   "cell_type": "code",
   "execution_count": null,
   "id": "a3f15e54-19a4-4a55-ab4c-e42da572c711",
   "metadata": {},
   "outputs": [
    {
     "ename": "",
     "evalue": "",
     "output_type": "error",
     "traceback": [
      "\u001b[1;31mFailed to start the Kernel. \n",
      "\u001b[1;31mUnable to start Kernel 'base (Python 3.11.7)' due to a timeout waiting for the ports to get used. \n",
      "\u001b[1;31mView Jupyter <a href='command:jupyter.viewOutput'>log</a> for further details."
     ]
    }
   ],
   "source": [
    "print(pearsonr(cpi_and_csi_yearly['inflation'], cpi_and_csi_yearly['csi_index_normalized']))"
   ]
  },
  {
   "cell_type": "raw",
   "id": "2e66d2a9-b138-44eb-bc0a-2e8eb97d131c",
   "metadata": {},
   "source": [
    ">> after checking the pearson correlation coefficient, we can see that CSI index indeed has a weakly positive correlation with Inflation and CPI index. However, p-value is bigger than 0.05 (0.07), thus we cannot reject the null hypothesis, so yearly CSI index has no correlation with inflation or CPI yearly at at all."
   ]
  },
  {
   "cell_type": "code",
   "execution_count": null,
   "id": "037c252e-e47c-4b03-86f6-cc90d39307ed",
   "metadata": {},
   "outputs": [
    {
     "ename": "",
     "evalue": "",
     "output_type": "error",
     "traceback": [
      "\u001b[1;31mFailed to start the Kernel. \n",
      "\u001b[1;31mUnable to start Kernel 'base (Python 3.11.7)' due to a timeout waiting for the ports to get used. \n",
      "\u001b[1;31mView Jupyter <a href='command:jupyter.viewOutput'>log</a> for further details."
     ]
    }
   ],
   "source": [
    "#quaterly"
   ]
  },
  {
   "cell_type": "code",
   "execution_count": null,
   "id": "58043a8f-3467-4e13-a9fd-79ae70a25ebc",
   "metadata": {},
   "outputs": [
    {
     "ename": "",
     "evalue": "",
     "output_type": "error",
     "traceback": [
      "\u001b[1;31mFailed to start the Kernel. \n",
      "\u001b[1;31mUnable to start Kernel 'base (Python 3.11.7)' due to a timeout waiting for the ports to get used. \n",
      "\u001b[1;31mView Jupyter <a href='command:jupyter.viewOutput'>log</a> for further details."
     ]
    }
   ],
   "source": [
    "cpi_and_csi.corr()"
   ]
  },
  {
   "cell_type": "code",
   "execution_count": null,
   "id": "66b50fb9-264a-4d11-b693-25fa17998a5b",
   "metadata": {},
   "outputs": [
    {
     "ename": "",
     "evalue": "",
     "output_type": "error",
     "traceback": [
      "\u001b[1;31mFailed to start the Kernel. \n",
      "\u001b[1;31mUnable to start Kernel 'base (Python 3.11.7)' due to a timeout waiting for the ports to get used. \n",
      "\u001b[1;31mView Jupyter <a href='command:jupyter.viewOutput'>log</a> for further details."
     ]
    }
   ],
   "source": [
    "sns.scatterplot(data=cpi_and_csi, x='csi_index', y='cpi_index')\n",
    "plt.title('CSI vs CPI Relationship')\n",
    "plt.xlabel('CPI Index')\n",
    "plt.ylabel('CSI Index')\n",
    "plt.show()"
   ]
  },
  {
   "cell_type": "code",
   "execution_count": null,
   "id": "e0a8bc4c-9b66-4b72-93c0-221caf51e758",
   "metadata": {},
   "outputs": [
    {
     "ename": "",
     "evalue": "",
     "output_type": "error",
     "traceback": [
      "\u001b[1;31mFailed to start the Kernel. \n",
      "\u001b[1;31mUnable to start Kernel 'base (Python 3.11.7)' due to a timeout waiting for the ports to get used. \n",
      "\u001b[1;31mView Jupyter <a href='command:jupyter.viewOutput'>log</a> for further details."
     ]
    }
   ],
   "source": [
    "print(pearsonr(cpi_and_csi['cpi_index'], cpi_and_csi['csi_index']))"
   ]
  },
  {
   "cell_type": "raw",
   "id": "429d4aff-2b49-411f-962c-a4b0d3bcee44",
   "metadata": {},
   "source": [
    ">> p-value of the coef is 0.002 (<0.05), thus we can reject the null hypothesis that there is no correlation between the two variable, or that the correlation is caused by noise, error, or chance, rather than actual correlation..\n",
    ">> after checking the correlation coeficient quarterly, visualizing by a scatterplot, and , we can see that CSI index indeed has a weakly negative correlation with CPI index or Inflation in general.."
   ]
  },
  {
   "cell_type": "code",
   "execution_count": null,
   "id": "8ca6aa7d-c152-48e1-99e4-6a07860de657",
   "metadata": {},
   "outputs": [
    {
     "ename": "",
     "evalue": "",
     "output_type": "error",
     "traceback": [
      "\u001b[1;31mFailed to start the Kernel. \n",
      "\u001b[1;31mUnable to start Kernel 'base (Python 3.11.7)' due to a timeout waiting for the ports to get used. \n",
      "\u001b[1;31mView Jupyter <a href='command:jupyter.viewOutput'>log</a> for further details."
     ]
    }
   ],
   "source": [
    "cpi_and_csi.plot()"
   ]
  },
  {
   "cell_type": "raw",
   "id": "5c8b8011-514b-410b-9c20-90fc94b39d88",
   "metadata": {},
   "source": [
    ">> lets normalize both columns so we can extract more inside from them"
   ]
  },
  {
   "cell_type": "code",
   "execution_count": null,
   "id": "62c8d508-25b3-48a1-ab43-136822ba58ae",
   "metadata": {},
   "outputs": [
    {
     "ename": "",
     "evalue": "",
     "output_type": "error",
     "traceback": [
      "\u001b[1;31mFailed to start the Kernel. \n",
      "\u001b[1;31mUnable to start Kernel 'base (Python 3.11.7)' due to a timeout waiting for the ports to get used. \n",
      "\u001b[1;31mView Jupyter <a href='command:jupyter.viewOutput'>log</a> for further details."
     ]
    }
   ],
   "source": [
    "cpi_and_csi['cpi_index_normalized'] = mm.fit_transform(cpi_and_csi[['cpi_index']])"
   ]
  },
  {
   "cell_type": "code",
   "execution_count": null,
   "id": "40739a57-a39f-4482-a520-057aec40ea5b",
   "metadata": {},
   "outputs": [
    {
     "ename": "",
     "evalue": "",
     "output_type": "error",
     "traceback": [
      "\u001b[1;31mFailed to start the Kernel. \n",
      "\u001b[1;31mUnable to start Kernel 'base (Python 3.11.7)' due to a timeout waiting for the ports to get used. \n",
      "\u001b[1;31mView Jupyter <a href='command:jupyter.viewOutput'>log</a> for further details."
     ]
    }
   ],
   "source": [
    "cpi_and_csi['csi_index_normalized'] = mm.fit_transform(cpi_and_csi[['csi_index']])"
   ]
  },
  {
   "cell_type": "code",
   "execution_count": null,
   "id": "e2a850b5-ccbb-4c6c-b7d7-69e347c7b20e",
   "metadata": {},
   "outputs": [
    {
     "ename": "",
     "evalue": "",
     "output_type": "error",
     "traceback": [
      "\u001b[1;31mFailed to start the Kernel. \n",
      "\u001b[1;31mUnable to start Kernel 'base (Python 3.11.7)' due to a timeout waiting for the ports to get used. \n",
      "\u001b[1;31mView Jupyter <a href='command:jupyter.viewOutput'>log</a> for further details."
     ]
    }
   ],
   "source": [
    "plt.figure(figsize=(24, 8))\n",
    "\n",
    "cpi_and_csi[['cpi_index_normalized', 'csi_index_normalized']].plot()\n",
    "\n",
    "plt.show()"
   ]
  },
  {
   "cell_type": "raw",
   "id": "d29139a0-d4ad-4ddc-9019-b156e0e081fa",
   "metadata": {},
   "source": [
    ">> since CSI index has a weakly correlation with CPI, thus lets further alternative indicators to forecast inflation"
   ]
  },
  {
   "cell_type": "code",
   "execution_count": null,
   "id": "523da02e-d894-422f-a880-2f214a9f1011",
   "metadata": {},
   "outputs": [
    {
     "ename": "",
     "evalue": "",
     "output_type": "error",
     "traceback": [
      "\u001b[1;31mFailed to start the Kernel. \n",
      "\u001b[1;31mUnable to start Kernel 'base (Python 3.11.7)' due to a timeout waiting for the ports to get used. \n",
      "\u001b[1;31mView Jupyter <a href='command:jupyter.viewOutput'>log</a> for further details."
     ]
    }
   ],
   "source": [
    "sns.pairplot(df)\n",
    "\n",
    "plt.plot()"
   ]
  },
  {
   "cell_type": "code",
   "execution_count": null,
   "id": "2e909825-888c-45dc-ad52-3905380326ad",
   "metadata": {},
   "outputs": [
    {
     "ename": "",
     "evalue": "",
     "output_type": "error",
     "traceback": [
      "\u001b[1;31mFailed to start the Kernel. \n",
      "\u001b[1;31mUnable to start Kernel 'base (Python 3.11.7)' due to a timeout waiting for the ports to get used. \n",
      "\u001b[1;31mView Jupyter <a href='command:jupyter.viewOutput'>log</a> for further details."
     ]
    }
   ],
   "source": [
    "df.corr()"
   ]
  },
  {
   "cell_type": "raw",
   "id": "080ab31e-6ec4-47e1-abba-7bb06911a3bc",
   "metadata": {},
   "source": [
    ">> ECI index (0.99), GPD index (0.75), PCE index (0.99), PPI index (0.94) have a better correlation coef with CPI"
   ]
  },
  {
   "cell_type": "code",
   "execution_count": null,
   "id": "b4ec829a-49cf-4ff9-9b01-bb9f332af9b1",
   "metadata": {},
   "outputs": [
    {
     "ename": "",
     "evalue": "",
     "output_type": "error",
     "traceback": [
      "\u001b[1;31mFailed to start the Kernel. \n",
      "\u001b[1;31mUnable to start Kernel 'base (Python 3.11.7)' due to a timeout waiting for the ports to get used. \n",
      "\u001b[1;31mView Jupyter <a href='command:jupyter.viewOutput'>log</a> for further details."
     ]
    }
   ],
   "source": [
    "highly_corr = df[['eci_index', 'gpd_index', 'pce_index', 'ppi_index', 'cpi_index']] # group them"
   ]
  },
  {
   "cell_type": "code",
   "execution_count": null,
   "id": "59a43067-4bfc-45d4-8124-4e346bfc01d2",
   "metadata": {},
   "outputs": [
    {
     "ename": "",
     "evalue": "",
     "output_type": "error",
     "traceback": [
      "\u001b[1;31mFailed to start the Kernel. \n",
      "\u001b[1;31mUnable to start Kernel 'base (Python 3.11.7)' due to a timeout waiting for the ports to get used. \n",
      "\u001b[1;31mView Jupyter <a href='command:jupyter.viewOutput'>log</a> for further details."
     ]
    }
   ],
   "source": [
    "highly_corr.corr()"
   ]
  },
  {
   "cell_type": "code",
   "execution_count": null,
   "id": "1a36c05a-12b3-46a2-83fe-338ffeabb45e",
   "metadata": {},
   "outputs": [
    {
     "ename": "",
     "evalue": "",
     "output_type": "error",
     "traceback": [
      "\u001b[1;31mFailed to start the Kernel. \n",
      "\u001b[1;31mUnable to start Kernel 'base (Python 3.11.7)' due to a timeout waiting for the ports to get used. \n",
      "\u001b[1;31mView Jupyter <a href='command:jupyter.viewOutput'>log</a> for further details."
     ]
    }
   ],
   "source": [
    "highly_corr.plot()"
   ]
  },
  {
   "cell_type": "raw",
   "id": "cc197f8e-4794-484b-95f9-7721944cd511",
   "metadata": {},
   "source": [
    ">> lets normalize PCE index to extract more inside using MinMaxscale since its distribute non-centrally"
   ]
  },
  {
   "cell_type": "code",
   "execution_count": null,
   "id": "660ad9e0-6718-43d0-99de-37c60cedf04b",
   "metadata": {},
   "outputs": [
    {
     "ename": "",
     "evalue": "",
     "output_type": "error",
     "traceback": [
      "\u001b[1;31mFailed to start the Kernel. \n",
      "\u001b[1;31mUnable to start Kernel 'base (Python 3.11.7)' due to a timeout waiting for the ports to get used. \n",
      "\u001b[1;31mView Jupyter <a href='command:jupyter.viewOutput'>log</a> for further details."
     ]
    }
   ],
   "source": [
    "highly_corr['pce_index_normalized'] = mm.fit_transform(highly_corr[['pce_index']])"
   ]
  },
  {
   "cell_type": "code",
   "execution_count": null,
   "id": "8c3b41be-6e24-4961-9429-dd4f48da09b2",
   "metadata": {},
   "outputs": [
    {
     "ename": "",
     "evalue": "",
     "output_type": "error",
     "traceback": [
      "\u001b[1;31mFailed to start the Kernel. \n",
      "\u001b[1;31mUnable to start Kernel 'base (Python 3.11.7)' due to a timeout waiting for the ports to get used. \n",
      "\u001b[1;31mView Jupyter <a href='command:jupyter.viewOutput'>log</a> for further details."
     ]
    }
   ],
   "source": [
    "highly_corr.iloc[:, [0,1,3,4,5]].plot()"
   ]
  },
  {
   "cell_type": "code",
   "execution_count": null,
   "id": "1463477e-f8ae-4bce-95d6-306db27981f7",
   "metadata": {},
   "outputs": [
    {
     "ename": "",
     "evalue": "",
     "output_type": "error",
     "traceback": [
      "\u001b[1;31mFailed to start the Kernel. \n",
      "\u001b[1;31mUnable to start Kernel 'base (Python 3.11.7)' due to a timeout waiting for the ports to get used. \n",
      "\u001b[1;31mView Jupyter <a href='command:jupyter.viewOutput'>log</a> for further details."
     ]
    }
   ],
   "source": [
    "for i in highly_corr.columns.drop('cpi_index'):\n",
    "    corr, _ = pearsonr(highly_corr[i], highly_corr['cpi_index'])\n",
    "    print(f\"Pearson correlation between {i} and cpi_index: {corr:.4f}\")"
   ]
  },
  {
   "cell_type": "code",
   "execution_count": null,
   "id": "84450a0a-c622-422d-a85b-1870b49fb1b6",
   "metadata": {},
   "outputs": [
    {
     "ename": "",
     "evalue": "",
     "output_type": "error",
     "traceback": [
      "\u001b[1;31mFailed to start the Kernel. \n",
      "\u001b[1;31mUnable to start Kernel 'base (Python 3.11.7)' due to a timeout waiting for the ports to get used. \n",
      "\u001b[1;31mView Jupyter <a href='command:jupyter.viewOutput'>log</a> for further details."
     ]
    }
   ],
   "source": [
    "highly_corr"
   ]
  },
  {
   "cell_type": "code",
   "execution_count": null,
   "id": "50b77393-fc3a-4e91-8daa-05bd93cbbb75",
   "metadata": {},
   "outputs": [
    {
     "ename": "",
     "evalue": "",
     "output_type": "error",
     "traceback": [
      "\u001b[1;31mFailed to start the Kernel. \n",
      "\u001b[1;31mUnable to start Kernel 'base (Python 3.11.7)' due to a timeout waiting for the ports to get used. \n",
      "\u001b[1;31mView Jupyter <a href='command:jupyter.viewOutput'>log</a> for further details."
     ]
    }
   ],
   "source": [
    "highly_corr[['eci_index', 'cpi_index']].plot()"
   ]
  },
  {
   "cell_type": "code",
   "execution_count": null,
   "id": "7b4257af-6c81-4800-8677-03e8a3122a4f",
   "metadata": {},
   "outputs": [
    {
     "ename": "",
     "evalue": "",
     "output_type": "error",
     "traceback": [
      "\u001b[1;31mFailed to start the Kernel. \n",
      "\u001b[1;31mUnable to start Kernel 'base (Python 3.11.7)' due to a timeout waiting for the ports to get used. \n",
      "\u001b[1;31mView Jupyter <a href='command:jupyter.viewOutput'>log</a> for further details."
     ]
    }
   ],
   "source": [
    "highly_corr[['gpd_index', 'cpi_index']].plot()"
   ]
  },
  {
   "cell_type": "code",
   "execution_count": null,
   "id": "ab69d016-a896-4ff8-bb04-fe43f518f435",
   "metadata": {},
   "outputs": [
    {
     "ename": "",
     "evalue": "",
     "output_type": "error",
     "traceback": [
      "\u001b[1;31mFailed to start the Kernel. \n",
      "\u001b[1;31mUnable to start Kernel 'base (Python 3.11.7)' due to a timeout waiting for the ports to get used. \n",
      "\u001b[1;31mView Jupyter <a href='command:jupyter.viewOutput'>log</a> for further details."
     ]
    }
   ],
   "source": [
    "highly_corr[['ppi_index', 'cpi_index']].plot()"
   ]
  },
  {
   "cell_type": "code",
   "execution_count": null,
   "id": "cc3b8a69-ac42-4280-bbc2-af9bb40fd1ed",
   "metadata": {},
   "outputs": [
    {
     "ename": "",
     "evalue": "",
     "output_type": "error",
     "traceback": [
      "\u001b[1;31mFailed to start the Kernel. \n",
      "\u001b[1;31mUnable to start Kernel 'base (Python 3.11.7)' due to a timeout waiting for the ports to get used. \n",
      "\u001b[1;31mView Jupyter <a href='command:jupyter.viewOutput'>log</a> for further details."
     ]
    }
   ],
   "source": [
    "highly_corr[['pce_index', 'cpi_index']].plot()"
   ]
  },
  {
   "cell_type": "code",
   "execution_count": null,
   "id": "5606fc4b-3b32-4502-baaf-f327306f9ed7",
   "metadata": {},
   "outputs": [
    {
     "ename": "",
     "evalue": "",
     "output_type": "error",
     "traceback": [
      "\u001b[1;31mFailed to start the Kernel. \n",
      "\u001b[1;31mUnable to start Kernel 'base (Python 3.11.7)' due to a timeout waiting for the ports to get used. \n",
      "\u001b[1;31mView Jupyter <a href='command:jupyter.viewOutput'>log</a> for further details."
     ]
    }
   ],
   "source": [
    "#yearly\n",
    "\n",
    "df_yearly = df.resample('Y').mean()"
   ]
  },
  {
   "cell_type": "code",
   "execution_count": null,
   "id": "bc47e550-cecc-4c62-b824-07984a1ee444",
   "metadata": {},
   "outputs": [
    {
     "ename": "",
     "evalue": "",
     "output_type": "error",
     "traceback": [
      "\u001b[1;31mFailed to start the Kernel. \n",
      "\u001b[1;31mUnable to start Kernel 'base (Python 3.11.7)' due to a timeout waiting for the ports to get used. \n",
      "\u001b[1;31mView Jupyter <a href='command:jupyter.viewOutput'>log</a> for further details."
     ]
    }
   ],
   "source": [
    "sns.pairplot(df_yearly_1)\n",
    "\n",
    "plt.plot()"
   ]
  },
  {
   "cell_type": "code",
   "execution_count": null,
   "id": "d66699a0-c02e-47e6-9bf9-c9d83a793a16",
   "metadata": {},
   "outputs": [
    {
     "ename": "",
     "evalue": "",
     "output_type": "error",
     "traceback": [
      "\u001b[1;31mFailed to start the Kernel. \n",
      "\u001b[1;31mUnable to start Kernel 'base (Python 3.11.7)' due to a timeout waiting for the ports to get used. \n",
      "\u001b[1;31mView Jupyter <a href='command:jupyter.viewOutput'>log</a> for further details."
     ]
    }
   ],
   "source": [
    "df_yearly_1 = df_yearly.copy()\n",
    "\n",
    "for column in df_yearly_1.columns:\n",
    "    df_yearly_1[column] = mm.fit_transform(df_yearly_1[[column]])"
   ]
  },
  {
   "cell_type": "code",
   "execution_count": null,
   "id": "59cc5fee-38ab-4e90-9d3e-11fcb5aa8f1c",
   "metadata": {},
   "outputs": [
    {
     "ename": "",
     "evalue": "",
     "output_type": "error",
     "traceback": [
      "\u001b[1;31mFailed to start the Kernel. \n",
      "\u001b[1;31mUnable to start Kernel 'base (Python 3.11.7)' due to a timeout waiting for the ports to get used. \n",
      "\u001b[1;31mView Jupyter <a href='command:jupyter.viewOutput'>log</a> for further details."
     ]
    }
   ],
   "source": [
    "df_yearly_1.corr()"
   ]
  },
  {
   "cell_type": "raw",
   "id": "eeb2d4c3-e647-4db2-9ee6-140d8f3f9cf5",
   "metadata": {},
   "source": [
    ">> ECI index correlation coef of 0.99, GPD index of 0.76, PCE index of 0.99, PPI index of 0.95 are very identifical to the quartley ones, so we do not need to further analyze them.."
   ]
  },
  {
   "cell_type": "code",
   "execution_count": null,
   "id": "edf6f392-18c5-4e1d-84da-857a01bb026f",
   "metadata": {},
   "outputs": [
    {
     "ename": "",
     "evalue": "",
     "output_type": "error",
     "traceback": [
      "\u001b[1;31mFailed to start the Kernel. \n",
      "\u001b[1;31mUnable to start Kernel 'base (Python 3.11.7)' due to a timeout waiting for the ports to get used. \n",
      "\u001b[1;31mView Jupyter <a href='command:jupyter.viewOutput'>log</a> for further details."
     ]
    }
   ],
   "source": [
    "df_yearly_1[['eci_index', 'cpi_index']].plot()"
   ]
  },
  {
   "cell_type": "code",
   "execution_count": null,
   "id": "4a8eb2e2-3381-46d5-8309-88db0dc5f3bf",
   "metadata": {},
   "outputs": [
    {
     "ename": "",
     "evalue": "",
     "output_type": "error",
     "traceback": [
      "\u001b[1;31mFailed to start the Kernel. \n",
      "\u001b[1;31mUnable to start Kernel 'base (Python 3.11.7)' due to a timeout waiting for the ports to get used. \n",
      "\u001b[1;31mView Jupyter <a href='command:jupyter.viewOutput'>log</a> for further details."
     ]
    }
   ],
   "source": [
    "df_yearly[['eci_index', 'cpi_index']].plot()"
   ]
  },
  {
   "cell_type": "code",
   "execution_count": null,
   "id": "7b1637b4-913d-4ec2-91e3-7db1404cabe8",
   "metadata": {},
   "outputs": [
    {
     "ename": "",
     "evalue": "",
     "output_type": "error",
     "traceback": [
      "\u001b[1;31mFailed to start the Kernel. \n",
      "\u001b[1;31mUnable to start Kernel 'base (Python 3.11.7)' due to a timeout waiting for the ports to get used. \n",
      "\u001b[1;31mView Jupyter <a href='command:jupyter.viewOutput'>log</a> for further details."
     ]
    }
   ],
   "source": [
    "df_yearly_1[['gpd_index', 'cpi_index']].plot()"
   ]
  },
  {
   "cell_type": "code",
   "execution_count": null,
   "id": "fd122fbb-a649-4bbe-b89e-6add9c610062",
   "metadata": {},
   "outputs": [
    {
     "ename": "",
     "evalue": "",
     "output_type": "error",
     "traceback": [
      "\u001b[1;31mFailed to start the Kernel. \n",
      "\u001b[1;31mUnable to start Kernel 'base (Python 3.11.7)' due to a timeout waiting for the ports to get used. \n",
      "\u001b[1;31mView Jupyter <a href='command:jupyter.viewOutput'>log</a> for further details."
     ]
    }
   ],
   "source": [
    "df_yearly[['gpd_index', 'cpi_index']].plot()"
   ]
  },
  {
   "cell_type": "code",
   "execution_count": null,
   "id": "1801ad65-abce-424b-9ab0-f9d7ada1fdbf",
   "metadata": {},
   "outputs": [
    {
     "ename": "",
     "evalue": "",
     "output_type": "error",
     "traceback": [
      "\u001b[1;31mFailed to start the Kernel. \n",
      "\u001b[1;31mUnable to start Kernel 'base (Python 3.11.7)' due to a timeout waiting for the ports to get used. \n",
      "\u001b[1;31mView Jupyter <a href='command:jupyter.viewOutput'>log</a> for further details."
     ]
    }
   ],
   "source": [
    "df_yearly[['pce_index', 'cpi_index']].plot()"
   ]
  },
  {
   "cell_type": "code",
   "execution_count": null,
   "id": "06559a6d-5aac-40fe-b25c-93e28dd71573",
   "metadata": {},
   "outputs": [
    {
     "ename": "",
     "evalue": "",
     "output_type": "error",
     "traceback": [
      "\u001b[1;31mFailed to start the Kernel. \n",
      "\u001b[1;31mUnable to start Kernel 'base (Python 3.11.7)' due to a timeout waiting for the ports to get used. \n",
      "\u001b[1;31mView Jupyter <a href='command:jupyter.viewOutput'>log</a> for further details."
     ]
    }
   ],
   "source": [
    "df_yearly_1[['pce_index', 'cpi_index']].plot()"
   ]
  },
  {
   "cell_type": "code",
   "execution_count": null,
   "id": "4a7d0ebb-948d-4b66-88a4-0ed7ae1160ea",
   "metadata": {},
   "outputs": [
    {
     "ename": "",
     "evalue": "",
     "output_type": "error",
     "traceback": [
      "\u001b[1;31mFailed to start the Kernel. \n",
      "\u001b[1;31mUnable to start Kernel 'base (Python 3.11.7)' due to a timeout waiting for the ports to get used. \n",
      "\u001b[1;31mView Jupyter <a href='command:jupyter.viewOutput'>log</a> for further details."
     ]
    }
   ],
   "source": [
    "df_yearly_1[['ppi_index', 'cpi_index']].plot()"
   ]
  },
  {
   "cell_type": "code",
   "execution_count": null,
   "id": "e5a17e01-d8de-4b80-99f9-893c0a05ddf0",
   "metadata": {},
   "outputs": [
    {
     "ename": "",
     "evalue": "",
     "output_type": "error",
     "traceback": [
      "\u001b[1;31mFailed to start the Kernel. \n",
      "\u001b[1;31mUnable to start Kernel 'base (Python 3.11.7)' due to a timeout waiting for the ports to get used. \n",
      "\u001b[1;31mView Jupyter <a href='command:jupyter.viewOutput'>log</a> for further details."
     ]
    }
   ],
   "source": [
    "# non-normalized\n",
    "\n",
    "df_yearly"
   ]
  }
 ],
 "metadata": {
  "kernelspec": {
   "display_name": "Python 3 (ipykernel)",
   "language": "python",
   "name": "python3"
  },
  "language_info": {
   "codemirror_mode": {
    "name": "ipython",
    "version": 3
   },
   "file_extension": ".py",
   "mimetype": "text/x-python",
   "name": "python",
   "nbconvert_exporter": "python",
   "pygments_lexer": "ipython3",
   "version": "3.11.7"
  }
 },
 "nbformat": 4,
 "nbformat_minor": 5
}
